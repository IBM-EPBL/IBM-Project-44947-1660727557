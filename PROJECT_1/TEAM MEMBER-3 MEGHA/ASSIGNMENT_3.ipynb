{
 "cells": [
  {
   "cell_type": "markdown",
   "id": "ac9c633b",
   "metadata": {},
   "source": [
    "## LOAD THE DATASET"
   ]
  },
  {
   "cell_type": "code",
   "execution_count": 1,
   "id": "7d23810d",
   "metadata": {},
   "outputs": [],
   "source": [
    "import pandas as pd"
   ]
  },
  {
   "cell_type": "code",
   "execution_count": 3,
   "id": "7fc3ee36",
   "metadata": {},
   "outputs": [],
   "source": [
    "df=pd.read_csv(\"abalone.csv\")"
   ]
  },
  {
   "cell_type": "code",
   "execution_count": 4,
   "id": "8ac5569b",
   "metadata": {},
   "outputs": [
    {
     "data": {
      "text/html": [
       "<div>\n",
       "<style scoped>\n",
       "    .dataframe tbody tr th:only-of-type {\n",
       "        vertical-align: middle;\n",
       "    }\n",
       "\n",
       "    .dataframe tbody tr th {\n",
       "        vertical-align: top;\n",
       "    }\n",
       "\n",
       "    .dataframe thead th {\n",
       "        text-align: right;\n",
       "    }\n",
       "</style>\n",
       "<table border=\"1\" class=\"dataframe\">\n",
       "  <thead>\n",
       "    <tr style=\"text-align: right;\">\n",
       "      <th></th>\n",
       "      <th>Sex</th>\n",
       "      <th>Length</th>\n",
       "      <th>Diameter</th>\n",
       "      <th>Height</th>\n",
       "      <th>Whole weight</th>\n",
       "      <th>Shucked weight</th>\n",
       "      <th>Viscera weight</th>\n",
       "      <th>Shell weight</th>\n",
       "      <th>Rings</th>\n",
       "    </tr>\n",
       "  </thead>\n",
       "  <tbody>\n",
       "    <tr>\n",
       "      <th>0</th>\n",
       "      <td>M</td>\n",
       "      <td>0.455</td>\n",
       "      <td>0.365</td>\n",
       "      <td>0.095</td>\n",
       "      <td>0.5140</td>\n",
       "      <td>0.2245</td>\n",
       "      <td>0.1010</td>\n",
       "      <td>0.1500</td>\n",
       "      <td>15</td>\n",
       "    </tr>\n",
       "    <tr>\n",
       "      <th>1</th>\n",
       "      <td>M</td>\n",
       "      <td>0.350</td>\n",
       "      <td>0.265</td>\n",
       "      <td>0.090</td>\n",
       "      <td>0.2255</td>\n",
       "      <td>0.0995</td>\n",
       "      <td>0.0485</td>\n",
       "      <td>0.0700</td>\n",
       "      <td>7</td>\n",
       "    </tr>\n",
       "    <tr>\n",
       "      <th>2</th>\n",
       "      <td>F</td>\n",
       "      <td>0.530</td>\n",
       "      <td>0.420</td>\n",
       "      <td>0.135</td>\n",
       "      <td>0.6770</td>\n",
       "      <td>0.2565</td>\n",
       "      <td>0.1415</td>\n",
       "      <td>0.2100</td>\n",
       "      <td>9</td>\n",
       "    </tr>\n",
       "    <tr>\n",
       "      <th>3</th>\n",
       "      <td>M</td>\n",
       "      <td>0.440</td>\n",
       "      <td>0.365</td>\n",
       "      <td>0.125</td>\n",
       "      <td>0.5160</td>\n",
       "      <td>0.2155</td>\n",
       "      <td>0.1140</td>\n",
       "      <td>0.1550</td>\n",
       "      <td>10</td>\n",
       "    </tr>\n",
       "    <tr>\n",
       "      <th>4</th>\n",
       "      <td>I</td>\n",
       "      <td>0.330</td>\n",
       "      <td>0.255</td>\n",
       "      <td>0.080</td>\n",
       "      <td>0.2050</td>\n",
       "      <td>0.0895</td>\n",
       "      <td>0.0395</td>\n",
       "      <td>0.0550</td>\n",
       "      <td>7</td>\n",
       "    </tr>\n",
       "    <tr>\n",
       "      <th>...</th>\n",
       "      <td>...</td>\n",
       "      <td>...</td>\n",
       "      <td>...</td>\n",
       "      <td>...</td>\n",
       "      <td>...</td>\n",
       "      <td>...</td>\n",
       "      <td>...</td>\n",
       "      <td>...</td>\n",
       "      <td>...</td>\n",
       "    </tr>\n",
       "    <tr>\n",
       "      <th>4172</th>\n",
       "      <td>F</td>\n",
       "      <td>0.565</td>\n",
       "      <td>0.450</td>\n",
       "      <td>0.165</td>\n",
       "      <td>0.8870</td>\n",
       "      <td>0.3700</td>\n",
       "      <td>0.2390</td>\n",
       "      <td>0.2490</td>\n",
       "      <td>11</td>\n",
       "    </tr>\n",
       "    <tr>\n",
       "      <th>4173</th>\n",
       "      <td>M</td>\n",
       "      <td>0.590</td>\n",
       "      <td>0.440</td>\n",
       "      <td>0.135</td>\n",
       "      <td>0.9660</td>\n",
       "      <td>0.4390</td>\n",
       "      <td>0.2145</td>\n",
       "      <td>0.2605</td>\n",
       "      <td>10</td>\n",
       "    </tr>\n",
       "    <tr>\n",
       "      <th>4174</th>\n",
       "      <td>M</td>\n",
       "      <td>0.600</td>\n",
       "      <td>0.475</td>\n",
       "      <td>0.205</td>\n",
       "      <td>1.1760</td>\n",
       "      <td>0.5255</td>\n",
       "      <td>0.2875</td>\n",
       "      <td>0.3080</td>\n",
       "      <td>9</td>\n",
       "    </tr>\n",
       "    <tr>\n",
       "      <th>4175</th>\n",
       "      <td>F</td>\n",
       "      <td>0.625</td>\n",
       "      <td>0.485</td>\n",
       "      <td>0.150</td>\n",
       "      <td>1.0945</td>\n",
       "      <td>0.5310</td>\n",
       "      <td>0.2610</td>\n",
       "      <td>0.2960</td>\n",
       "      <td>10</td>\n",
       "    </tr>\n",
       "    <tr>\n",
       "      <th>4176</th>\n",
       "      <td>M</td>\n",
       "      <td>0.710</td>\n",
       "      <td>0.555</td>\n",
       "      <td>0.195</td>\n",
       "      <td>1.9485</td>\n",
       "      <td>0.9455</td>\n",
       "      <td>0.3765</td>\n",
       "      <td>0.4950</td>\n",
       "      <td>12</td>\n",
       "    </tr>\n",
       "  </tbody>\n",
       "</table>\n",
       "<p>4177 rows × 9 columns</p>\n",
       "</div>"
      ],
      "text/plain": [
       "     Sex  Length  Diameter  Height  Whole weight  Shucked weight  \\\n",
       "0      M   0.455     0.365   0.095        0.5140          0.2245   \n",
       "1      M   0.350     0.265   0.090        0.2255          0.0995   \n",
       "2      F   0.530     0.420   0.135        0.6770          0.2565   \n",
       "3      M   0.440     0.365   0.125        0.5160          0.2155   \n",
       "4      I   0.330     0.255   0.080        0.2050          0.0895   \n",
       "...   ..     ...       ...     ...           ...             ...   \n",
       "4172   F   0.565     0.450   0.165        0.8870          0.3700   \n",
       "4173   M   0.590     0.440   0.135        0.9660          0.4390   \n",
       "4174   M   0.600     0.475   0.205        1.1760          0.5255   \n",
       "4175   F   0.625     0.485   0.150        1.0945          0.5310   \n",
       "4176   M   0.710     0.555   0.195        1.9485          0.9455   \n",
       "\n",
       "      Viscera weight  Shell weight  Rings  \n",
       "0             0.1010        0.1500     15  \n",
       "1             0.0485        0.0700      7  \n",
       "2             0.1415        0.2100      9  \n",
       "3             0.1140        0.1550     10  \n",
       "4             0.0395        0.0550      7  \n",
       "...              ...           ...    ...  \n",
       "4172          0.2390        0.2490     11  \n",
       "4173          0.2145        0.2605     10  \n",
       "4174          0.2875        0.3080      9  \n",
       "4175          0.2610        0.2960     10  \n",
       "4176          0.3765        0.4950     12  \n",
       "\n",
       "[4177 rows x 9 columns]"
      ]
     },
     "execution_count": 4,
     "metadata": {},
     "output_type": "execute_result"
    }
   ],
   "source": [
    "df"
   ]
  },
  {
   "cell_type": "markdown",
   "id": "97dad695",
   "metadata": {},
   "source": [
    "## VISUALZATION"
   ]
  },
  {
   "cell_type": "markdown",
   "id": "59ccf380",
   "metadata": {},
   "source": [
    "## UNIVARIANT ANALYSIS"
   ]
  },
  {
   "cell_type": "code",
   "execution_count": 5,
   "id": "1d748076",
   "metadata": {},
   "outputs": [],
   "source": [
    "import matplotlib.pyplot as plt"
   ]
  },
  {
   "cell_type": "code",
   "execution_count": 6,
   "id": "bb782cea",
   "metadata": {},
   "outputs": [],
   "source": [
    "from matplotlib import rcParams"
   ]
  },
  {
   "cell_type": "markdown",
   "id": "8d03312c",
   "metadata": {},
   "source": [
    "## LINE CHART"
   ]
  },
  {
   "cell_type": "code",
   "execution_count": 15,
   "id": "3697c21d",
   "metadata": {},
   "outputs": [
    {
     "data": {
      "text/html": [
       "<div>\n",
       "<style scoped>\n",
       "    .dataframe tbody tr th:only-of-type {\n",
       "        vertical-align: middle;\n",
       "    }\n",
       "\n",
       "    .dataframe tbody tr th {\n",
       "        vertical-align: top;\n",
       "    }\n",
       "\n",
       "    .dataframe thead th {\n",
       "        text-align: right;\n",
       "    }\n",
       "</style>\n",
       "<table border=\"1\" class=\"dataframe\">\n",
       "  <thead>\n",
       "    <tr style=\"text-align: right;\">\n",
       "      <th></th>\n",
       "      <th>Sex</th>\n",
       "      <th>Length</th>\n",
       "      <th>Diameter</th>\n",
       "      <th>Height</th>\n",
       "      <th>Whole weight</th>\n",
       "      <th>Shucked weight</th>\n",
       "      <th>Viscera weight</th>\n",
       "      <th>Shell weight</th>\n",
       "      <th>Rings</th>\n",
       "    </tr>\n",
       "  </thead>\n",
       "  <tbody>\n",
       "    <tr>\n",
       "      <th>0</th>\n",
       "      <td>M</td>\n",
       "      <td>0.455</td>\n",
       "      <td>0.365</td>\n",
       "      <td>0.095</td>\n",
       "      <td>0.5140</td>\n",
       "      <td>0.2245</td>\n",
       "      <td>0.1010</td>\n",
       "      <td>0.150</td>\n",
       "      <td>15</td>\n",
       "    </tr>\n",
       "    <tr>\n",
       "      <th>1</th>\n",
       "      <td>M</td>\n",
       "      <td>0.350</td>\n",
       "      <td>0.265</td>\n",
       "      <td>0.090</td>\n",
       "      <td>0.2255</td>\n",
       "      <td>0.0995</td>\n",
       "      <td>0.0485</td>\n",
       "      <td>0.070</td>\n",
       "      <td>7</td>\n",
       "    </tr>\n",
       "    <tr>\n",
       "      <th>2</th>\n",
       "      <td>F</td>\n",
       "      <td>0.530</td>\n",
       "      <td>0.420</td>\n",
       "      <td>0.135</td>\n",
       "      <td>0.6770</td>\n",
       "      <td>0.2565</td>\n",
       "      <td>0.1415</td>\n",
       "      <td>0.210</td>\n",
       "      <td>9</td>\n",
       "    </tr>\n",
       "    <tr>\n",
       "      <th>3</th>\n",
       "      <td>M</td>\n",
       "      <td>0.440</td>\n",
       "      <td>0.365</td>\n",
       "      <td>0.125</td>\n",
       "      <td>0.5160</td>\n",
       "      <td>0.2155</td>\n",
       "      <td>0.1140</td>\n",
       "      <td>0.155</td>\n",
       "      <td>10</td>\n",
       "    </tr>\n",
       "    <tr>\n",
       "      <th>4</th>\n",
       "      <td>I</td>\n",
       "      <td>0.330</td>\n",
       "      <td>0.255</td>\n",
       "      <td>0.080</td>\n",
       "      <td>0.2050</td>\n",
       "      <td>0.0895</td>\n",
       "      <td>0.0395</td>\n",
       "      <td>0.055</td>\n",
       "      <td>7</td>\n",
       "    </tr>\n",
       "    <tr>\n",
       "      <th>...</th>\n",
       "      <td>...</td>\n",
       "      <td>...</td>\n",
       "      <td>...</td>\n",
       "      <td>...</td>\n",
       "      <td>...</td>\n",
       "      <td>...</td>\n",
       "      <td>...</td>\n",
       "      <td>...</td>\n",
       "      <td>...</td>\n",
       "    </tr>\n",
       "    <tr>\n",
       "      <th>95</th>\n",
       "      <td>M</td>\n",
       "      <td>0.665</td>\n",
       "      <td>0.535</td>\n",
       "      <td>0.195</td>\n",
       "      <td>1.6060</td>\n",
       "      <td>0.5755</td>\n",
       "      <td>0.3880</td>\n",
       "      <td>0.480</td>\n",
       "      <td>14</td>\n",
       "    </tr>\n",
       "    <tr>\n",
       "      <th>96</th>\n",
       "      <td>M</td>\n",
       "      <td>0.535</td>\n",
       "      <td>0.435</td>\n",
       "      <td>0.150</td>\n",
       "      <td>0.7250</td>\n",
       "      <td>0.2690</td>\n",
       "      <td>0.1385</td>\n",
       "      <td>0.250</td>\n",
       "      <td>9</td>\n",
       "    </tr>\n",
       "    <tr>\n",
       "      <th>97</th>\n",
       "      <td>M</td>\n",
       "      <td>0.470</td>\n",
       "      <td>0.375</td>\n",
       "      <td>0.130</td>\n",
       "      <td>0.5230</td>\n",
       "      <td>0.2140</td>\n",
       "      <td>0.1320</td>\n",
       "      <td>0.145</td>\n",
       "      <td>8</td>\n",
       "    </tr>\n",
       "    <tr>\n",
       "      <th>98</th>\n",
       "      <td>M</td>\n",
       "      <td>0.470</td>\n",
       "      <td>0.370</td>\n",
       "      <td>0.130</td>\n",
       "      <td>0.5225</td>\n",
       "      <td>0.2010</td>\n",
       "      <td>0.1330</td>\n",
       "      <td>0.165</td>\n",
       "      <td>7</td>\n",
       "    </tr>\n",
       "    <tr>\n",
       "      <th>99</th>\n",
       "      <td>F</td>\n",
       "      <td>0.475</td>\n",
       "      <td>0.375</td>\n",
       "      <td>0.125</td>\n",
       "      <td>0.5785</td>\n",
       "      <td>0.2775</td>\n",
       "      <td>0.0850</td>\n",
       "      <td>0.155</td>\n",
       "      <td>10</td>\n",
       "    </tr>\n",
       "  </tbody>\n",
       "</table>\n",
       "<p>100 rows × 9 columns</p>\n",
       "</div>"
      ],
      "text/plain": [
       "   Sex  Length  Diameter  Height  Whole weight  Shucked weight  \\\n",
       "0    M   0.455     0.365   0.095        0.5140          0.2245   \n",
       "1    M   0.350     0.265   0.090        0.2255          0.0995   \n",
       "2    F   0.530     0.420   0.135        0.6770          0.2565   \n",
       "3    M   0.440     0.365   0.125        0.5160          0.2155   \n",
       "4    I   0.330     0.255   0.080        0.2050          0.0895   \n",
       "..  ..     ...       ...     ...           ...             ...   \n",
       "95   M   0.665     0.535   0.195        1.6060          0.5755   \n",
       "96   M   0.535     0.435   0.150        0.7250          0.2690   \n",
       "97   M   0.470     0.375   0.130        0.5230          0.2140   \n",
       "98   M   0.470     0.370   0.130        0.5225          0.2010   \n",
       "99   F   0.475     0.375   0.125        0.5785          0.2775   \n",
       "\n",
       "    Viscera weight  Shell weight  Rings  \n",
       "0           0.1010         0.150     15  \n",
       "1           0.0485         0.070      7  \n",
       "2           0.1415         0.210      9  \n",
       "3           0.1140         0.155     10  \n",
       "4           0.0395         0.055      7  \n",
       "..             ...           ...    ...  \n",
       "95          0.3880         0.480     14  \n",
       "96          0.1385         0.250      9  \n",
       "97          0.1320         0.145      8  \n",
       "98          0.1330         0.165      7  \n",
       "99          0.0850         0.155     10  \n",
       "\n",
       "[100 rows x 9 columns]"
      ]
     },
     "execution_count": 15,
     "metadata": {},
     "output_type": "execute_result"
    }
   ],
   "source": [
    "df1=df.head(100)\n",
    "df1"
   ]
  },
  {
   "cell_type": "code",
   "execution_count": 16,
   "id": "3babe383",
   "metadata": {},
   "outputs": [
    {
     "data": {
      "text/plain": [
       "<AxesSubplot:>"
      ]
     },
     "execution_count": 16,
     "metadata": {},
     "output_type": "execute_result"
    },
    {
     "data": {
      "image/png": "[encoded data removed]",
      "text/plain": [
       "<Figure size 432x288 with 1 Axes>"
      ]
     },
     "metadata": {
      "needs_background": "light"
     },
     "output_type": "display_data"
    }
   ],
   "source": [
    "df1.Rings.plot()"
   ]
  },
  {
   "cell_type": "markdown",
   "id": "2589ae86",
   "metadata": {},
   "source": [
    "## DIST PLOT"
   ]
  },
  {
   "cell_type": "code",
   "execution_count": 9,
   "id": "8cdf84b2",
   "metadata": {},
   "outputs": [],
   "source": [
    "import seaborn as sns"
   ]
  },
  {
   "cell_type": "code",
   "execution_count": 17,
   "id": "32a19ed3",
   "metadata": {},
   "outputs": [
    {
     "name": "stderr",
     "output_type": "stream",
     "text": [
      "C:\\Users\\ELCOT\\anaconda3\\lib\\site-packages\\seaborn\\distributions.py:2619: FutureWarning: `distplot` is a deprecated function and will be removed in a future version. Please adapt your code to use either `displot` (a figure-level function with similar flexibility) or `histplot` (an axes-level function for histograms).\n",
      "  warnings.warn(msg, FutureWarning)\n"
     ]
    },
    {
     "data": {
      "text/plain": [
       "<AxesSubplot:xlabel='Rings', ylabel='Density'>"
      ]
     },
     "execution_count": 17,
     "metadata": {},
     "output_type": "execute_result"
    },
    {
     "data": {
      "image/png": "[encoded data removed]",
      "text/plain": [
       "<Figure size 432x288 with 1 Axes>"
      ]
     },
     "metadata": {
      "needs_background": "light"
     },
     "output_type": "display_data"
    }
   ],
   "source": [
    "sns.distplot(df1.Rings)"
   ]
  },
  {
   "cell_type": "markdown",
   "id": "08e8ec7d",
   "metadata": {},
   "source": [
    "## PIE CHART"
   ]
  },
  {
   "cell_type": "code",
   "execution_count": 18,
   "id": "7d049023",
   "metadata": {},
   "outputs": [
    {
     "data": {
      "image/png": "[encoded data removed]",
      "text/plain": [
       "<Figure size 432x288 with 1 Axes>"
      ]
     },
     "metadata": {},
     "output_type": "display_data"
    }
   ],
   "source": [
    "plt.pie(df1.Sex.value_counts(),[0.1,0,0],shadow=True,colors=['red','green','purple'],labels=['M','F','I'],autopct='%1.1f')\n",
    "plt.title('Sex')\n",
    "plt.show()"
   ]
  },
  {
   "cell_type": "markdown",
   "id": "64ae1581",
   "metadata": {},
   "source": [
    "## HISTOGRAM"
   ]
  },
  {
   "cell_type": "code",
   "execution_count": 19,
   "id": "b43dea92",
   "metadata": {},
   "outputs": [
    {
     "data": {
      "text/plain": [
       "(array([ 4., 14., 24., 16., 16., 11.,  6.,  3.,  3.,  3.]),\n",
       " array([ 4. ,  5.7,  7.4,  9.1, 10.8, 12.5, 14.2, 15.9, 17.6, 19.3, 21. ]),\n",
       " <BarContainer object of 10 artists>)"
      ]
     },
     "execution_count": 19,
     "metadata": {},
     "output_type": "execute_result"
    },
    {
     "data": {
      "image/png": "[encoded data removed]",
      "text/plain": [
       "<Figure size 432x288 with 1 Axes>"
      ]
     },
     "metadata": {
      "needs_background": "light"
     },
     "output_type": "display_data"
    }
   ],
   "source": [
    "plt.hist(df1.Rings)"
   ]
  },
  {
   "cell_type": "markdown",
   "id": "0cfa15fd",
   "metadata": {},
   "source": [
    "## BIVARIANT ANALYSIS"
   ]
  },
  {
   "cell_type": "markdown",
   "id": "cdae9adf",
   "metadata": {},
   "source": [
    "## BAR GRAPH"
   ]
  },
  {
   "cell_type": "code",
   "execution_count": 20,
   "id": "2e8a4e0c",
   "metadata": {},
   "outputs": [
    {
     "name": "stderr",
     "output_type": "stream",
     "text": [
      "C:\\Users\\ELCOT\\anaconda3\\lib\\site-packages\\seaborn\\_decorators.py:36: FutureWarning: Pass the following variables as keyword args: x, y. From version 0.12, the only valid positional argument will be `data`, and passing other arguments without an explicit keyword will result in an error or misinterpretation.\n",
      "  warnings.warn(\n"
     ]
    },
    {
     "data": {
      "text/plain": [
       "<AxesSubplot:xlabel='Rings', ylabel='Length'>"
      ]
     },
     "execution_count": 20,
     "metadata": {},
     "output_type": "execute_result"
    },
    {
     "data": {
      "image/png": "[encoded data removed]",
      "text/plain": [
       "<Figure size 432x288 with 1 Axes>"
      ]
     },
     "metadata": {
      "needs_background": "light"
     },
     "output_type": "display_data"
    }
   ],
   "source": [
    "sns.barplot(df1.Rings,df1.Length)"
   ]
  },
  {
   "cell_type": "markdown",
   "id": "2202a950",
   "metadata": {},
   "source": [
    "## SCATTER PLOT"
   ]
  },
  {
   "cell_type": "code",
   "execution_count": 21,
   "id": "c6b2ee22",
   "metadata": {},
   "outputs": [
    {
     "name": "stderr",
     "output_type": "stream",
     "text": [
      "C:\\Users\\ELCOT\\anaconda3\\lib\\site-packages\\seaborn\\_decorators.py:36: FutureWarning: Pass the following variables as keyword args: x, y. From version 0.12, the only valid positional argument will be `data`, and passing other arguments without an explicit keyword will result in an error or misinterpretation.\n",
      "  warnings.warn(\n"
     ]
    },
    {
     "data": {
      "text/plain": [
       "<AxesSubplot:xlabel='Rings', ylabel='Length'>"
      ]
     },
     "execution_count": 21,
     "metadata": {},
     "output_type": "execute_result"
    },
    {
     "data": {
      "image/png": "[encoded data removed]",
      "text/plain": [
       "<Figure size 432x288 with 1 Axes>"
      ]
     },
     "metadata": {
      "needs_background": "light"
     },
     "output_type": "display_data"
    }
   ],
   "source": [
    "sns.scatterplot(df1.Rings,df1.Length)"
   ]
  },
  {
   "cell_type": "markdown",
   "id": "2d9b61bb",
   "metadata": {},
   "source": [
    "## BOX PLOT"
   ]
  },
  {
   "cell_type": "code",
   "execution_count": 22,
   "id": "bc922750",
   "metadata": {},
   "outputs": [
    {
     "name": "stderr",
     "output_type": "stream",
     "text": [
      "C:\\Users\\ELCOT\\anaconda3\\lib\\site-packages\\seaborn\\_decorators.py:36: FutureWarning: Pass the following variables as keyword args: x, y. From version 0.12, the only valid positional argument will be `data`, and passing other arguments without an explicit keyword will result in an error or misinterpretation.\n",
      "  warnings.warn(\n"
     ]
    },
    {
     "data": {
      "text/plain": [
       "<AxesSubplot:xlabel='Rings', ylabel='Length'>"
      ]
     },
     "execution_count": 22,
     "metadata": {},
     "output_type": "execute_result"
    },
    {
     "data": {
      "image/png": "[encoded data removed]",
      "text/plain": [
       "<Figure size 432x288 with 1 Axes>"
      ]
     },
     "metadata": {
      "needs_background": "light"
     },
     "output_type": "display_data"
    }
   ],
   "source": [
    "sns.boxplot(df1.Rings,df1.Length)"
   ]
  },
  {
   "cell_type": "markdown",
   "id": "ecd79acc",
   "metadata": {},
   "source": [
    "## MULTIVARIANT ANALYSIS"
   ]
  },
  {
   "cell_type": "markdown",
   "id": "ffd3fba0",
   "metadata": {},
   "source": [
    "## PAIR PLOT"
   ]
  },
  {
   "cell_type": "code",
   "execution_count": 23,
   "id": "0d335dbb",
   "metadata": {},
   "outputs": [],
   "source": [
    "df2=df.head(15)"
   ]
  },
  {
   "cell_type": "code",
   "execution_count": 24,
   "id": "e478bb87",
   "metadata": {},
   "outputs": [
    {
     "data": {
      "text/plain": [
       "<seaborn.axisgrid.PairGrid at 0x1c6ea89f790>"
      ]
     },
     "execution_count": 24,
     "metadata": {},
     "output_type": "execute_result"
    },
    {
     "data": {
      "image/png": "[encoded data removed]",
      "text/plain": [
       "<Figure size 1440x1440 with 72 Axes>"
      ]
     },
     "metadata": {
      "needs_background": "light"
     },
     "output_type": "display_data"
    }
   ],
   "source": [
    "sns.pairplot(df2)"
   ]
  },
  {
   "cell_type": "markdown",
   "id": "038fe821",
   "metadata": {},
   "source": [
    "## DESCRIPTIVE STATICS"
   ]
  },
  {
   "cell_type": "code",
   "execution_count": 25,
   "id": "4b64b3b8",
   "metadata": {},
   "outputs": [],
   "source": [
    "import numpy as np"
   ]
  },
  {
   "cell_type": "code",
   "execution_count": 26,
   "id": "245d384d",
   "metadata": {},
   "outputs": [
    {
     "data": {
      "text/html": [
       "<div>\n",
       "<style scoped>\n",
       "    .dataframe tbody tr th:only-of-type {\n",
       "        vertical-align: middle;\n",
       "    }\n",
       "\n",
       "    .dataframe tbody tr th {\n",
       "        vertical-align: top;\n",
       "    }\n",
       "\n",
       "    .dataframe thead th {\n",
       "        text-align: right;\n",
       "    }\n",
       "</style>\n",
       "<table border=\"1\" class=\"dataframe\">\n",
       "  <thead>\n",
       "    <tr style=\"text-align: right;\">\n",
       "      <th></th>\n",
       "      <th>Sex</th>\n",
       "      <th>Length</th>\n",
       "      <th>Diameter</th>\n",
       "      <th>Height</th>\n",
       "      <th>Whole weight</th>\n",
       "      <th>Shucked weight</th>\n",
       "      <th>Viscera weight</th>\n",
       "      <th>Shell weight</th>\n",
       "      <th>Rings</th>\n",
       "    </tr>\n",
       "  </thead>\n",
       "  <tbody>\n",
       "    <tr>\n",
       "      <th>0</th>\n",
       "      <td>M</td>\n",
       "      <td>0.455</td>\n",
       "      <td>0.365</td>\n",
       "      <td>0.095</td>\n",
       "      <td>0.5140</td>\n",
       "      <td>0.2245</td>\n",
       "      <td>0.1010</td>\n",
       "      <td>0.150</td>\n",
       "      <td>15</td>\n",
       "    </tr>\n",
       "    <tr>\n",
       "      <th>1</th>\n",
       "      <td>M</td>\n",
       "      <td>0.350</td>\n",
       "      <td>0.265</td>\n",
       "      <td>0.090</td>\n",
       "      <td>0.2255</td>\n",
       "      <td>0.0995</td>\n",
       "      <td>0.0485</td>\n",
       "      <td>0.070</td>\n",
       "      <td>7</td>\n",
       "    </tr>\n",
       "    <tr>\n",
       "      <th>2</th>\n",
       "      <td>F</td>\n",
       "      <td>0.530</td>\n",
       "      <td>0.420</td>\n",
       "      <td>0.135</td>\n",
       "      <td>0.6770</td>\n",
       "      <td>0.2565</td>\n",
       "      <td>0.1415</td>\n",
       "      <td>0.210</td>\n",
       "      <td>9</td>\n",
       "    </tr>\n",
       "    <tr>\n",
       "      <th>3</th>\n",
       "      <td>M</td>\n",
       "      <td>0.440</td>\n",
       "      <td>0.365</td>\n",
       "      <td>0.125</td>\n",
       "      <td>0.5160</td>\n",
       "      <td>0.2155</td>\n",
       "      <td>0.1140</td>\n",
       "      <td>0.155</td>\n",
       "      <td>10</td>\n",
       "    </tr>\n",
       "    <tr>\n",
       "      <th>4</th>\n",
       "      <td>I</td>\n",
       "      <td>0.330</td>\n",
       "      <td>0.255</td>\n",
       "      <td>0.080</td>\n",
       "      <td>0.2050</td>\n",
       "      <td>0.0895</td>\n",
       "      <td>0.0395</td>\n",
       "      <td>0.055</td>\n",
       "      <td>7</td>\n",
       "    </tr>\n",
       "  </tbody>\n",
       "</table>\n",
       "</div>"
      ],
      "text/plain": [
       "  Sex  Length  Diameter  Height  Whole weight  Shucked weight  Viscera weight  \\\n",
       "0   M   0.455     0.365   0.095        0.5140          0.2245          0.1010   \n",
       "1   M   0.350     0.265   0.090        0.2255          0.0995          0.0485   \n",
       "2   F   0.530     0.420   0.135        0.6770          0.2565          0.1415   \n",
       "3   M   0.440     0.365   0.125        0.5160          0.2155          0.1140   \n",
       "4   I   0.330     0.255   0.080        0.2050          0.0895          0.0395   \n",
       "\n",
       "   Shell weight  Rings  \n",
       "0         0.150     15  \n",
       "1         0.070      7  \n",
       "2         0.210      9  \n",
       "3         0.155     10  \n",
       "4         0.055      7  "
      ]
     },
     "execution_count": 26,
     "metadata": {},
     "output_type": "execute_result"
    }
   ],
   "source": [
    "df.head()"
   ]
  },
  {
   "cell_type": "code",
   "execution_count": 28,
   "id": "26bf504f",
   "metadata": {},
   "outputs": [
    {
     "data": {
      "text/plain": [
       "(4177, 9)"
      ]
     },
     "execution_count": 28,
     "metadata": {},
     "output_type": "execute_result"
    }
   ],
   "source": [
    "df.shape"
   ]
  },
  {
   "cell_type": "code",
   "execution_count": 29,
   "id": "28cf1d29",
   "metadata": {},
   "outputs": [
    {
     "data": {
      "text/plain": [
       "<bound method DataFrame.info of      Sex  Length  Diameter  Height  Whole weight  Shucked weight  \\\n",
       "0      M   0.455     0.365   0.095        0.5140          0.2245   \n",
       "1      M   0.350     0.265   0.090        0.2255          0.0995   \n",
       "2      F   0.530     0.420   0.135        0.6770          0.2565   \n",
       "3      M   0.440     0.365   0.125        0.5160          0.2155   \n",
       "4      I   0.330     0.255   0.080        0.2050          0.0895   \n",
       "...   ..     ...       ...     ...           ...             ...   \n",
       "4172   F   0.565     0.450   0.165        0.8870          0.3700   \n",
       "4173   M   0.590     0.440   0.135        0.9660          0.4390   \n",
       "4174   M   0.600     0.475   0.205        1.1760          0.5255   \n",
       "4175   F   0.625     0.485   0.150        1.0945          0.5310   \n",
       "4176   M   0.710     0.555   0.195        1.9485          0.9455   \n",
       "\n",
       "      Viscera weight  Shell weight  Rings  \n",
       "0             0.1010        0.1500     15  \n",
       "1             0.0485        0.0700      7  \n",
       "2             0.1415        0.2100      9  \n",
       "3             0.1140        0.1550     10  \n",
       "4             0.0395        0.0550      7  \n",
       "...              ...           ...    ...  \n",
       "4172          0.2390        0.2490     11  \n",
       "4173          0.2145        0.2605     10  \n",
       "4174          0.2875        0.3080      9  \n",
       "4175          0.2610        0.2960     10  \n",
       "4176          0.3765        0.4950     12  \n",
       "\n",
       "[4177 rows x 9 columns]>"
      ]
     },
     "execution_count": 29,
     "metadata": {},
     "output_type": "execute_result"
    }
   ],
   "source": [
    "df.info"
   ]
  },
  {
   "cell_type": "code",
   "execution_count": 30,
   "id": "29ca282e",
   "metadata": {},
   "outputs": [
    {
     "data": {
      "text/plain": [
       "Sex               False\n",
       "Length            False\n",
       "Diameter          False\n",
       "Height            False\n",
       "Whole weight      False\n",
       "Shucked weight    False\n",
       "Viscera weight    False\n",
       "Shell weight      False\n",
       "Rings             False\n",
       "dtype: bool"
      ]
     },
     "execution_count": 30,
     "metadata": {},
     "output_type": "execute_result"
    }
   ],
   "source": [
    "df.isnull().any()"
   ]
  },
  {
   "cell_type": "code",
   "execution_count": 31,
   "id": "381177ff",
   "metadata": {},
   "outputs": [
    {
     "data": {
      "text/plain": [
       "9     689\n",
       "10    634\n",
       "8     568\n",
       "11    487\n",
       "7     391\n",
       "12    267\n",
       "6     259\n",
       "13    203\n",
       "14    126\n",
       "5     115\n",
       "15    103\n",
       "16     67\n",
       "17     58\n",
       "4      57\n",
       "18     42\n",
       "19     32\n",
       "20     26\n",
       "3      15\n",
       "21     14\n",
       "23      9\n",
       "22      6\n",
       "27      2\n",
       "24      2\n",
       "1       1\n",
       "26      1\n",
       "29      1\n",
       "2       1\n",
       "25      1\n",
       "Name: Rings, dtype: int64"
      ]
     },
     "execution_count": 31,
     "metadata": {},
     "output_type": "execute_result"
    }
   ],
   "source": [
    "df.Rings.value_counts()"
   ]
  },
  {
   "cell_type": "code",
   "execution_count": 33,
   "id": "9969e4ad",
   "metadata": {},
   "outputs": [],
   "source": [
    "## for numerical column use mean or median for null value replacements\n",
    "## for categorical columns use mode for null value replacements"
   ]
  },
  {
   "cell_type": "code",
   "execution_count": 35,
   "id": "22901427",
   "metadata": {},
   "outputs": [
    {
     "data": {
      "text/html": [
       "<div>\n",
       "<style scoped>\n",
       "    .dataframe tbody tr th:only-of-type {\n",
       "        vertical-align: middle;\n",
       "    }\n",
       "\n",
       "    .dataframe tbody tr th {\n",
       "        vertical-align: top;\n",
       "    }\n",
       "\n",
       "    .dataframe thead th {\n",
       "        text-align: right;\n",
       "    }\n",
       "</style>\n",
       "<table border=\"1\" class=\"dataframe\">\n",
       "  <thead>\n",
       "    <tr style=\"text-align: right;\">\n",
       "      <th></th>\n",
       "      <th>Length</th>\n",
       "      <th>Diameter</th>\n",
       "      <th>Height</th>\n",
       "      <th>Whole weight</th>\n",
       "      <th>Shucked weight</th>\n",
       "      <th>Viscera weight</th>\n",
       "      <th>Shell weight</th>\n",
       "      <th>Rings</th>\n",
       "    </tr>\n",
       "  </thead>\n",
       "  <tbody>\n",
       "    <tr>\n",
       "      <th>count</th>\n",
       "      <td>4177.000000</td>\n",
       "      <td>4177.000000</td>\n",
       "      <td>4177.000000</td>\n",
       "      <td>4177.000000</td>\n",
       "      <td>4177.000000</td>\n",
       "      <td>4177.000000</td>\n",
       "      <td>4177.000000</td>\n",
       "      <td>4177.000000</td>\n",
       "    </tr>\n",
       "    <tr>\n",
       "      <th>mean</th>\n",
       "      <td>0.523992</td>\n",
       "      <td>0.407881</td>\n",
       "      <td>0.139516</td>\n",
       "      <td>0.828742</td>\n",
       "      <td>0.359367</td>\n",
       "      <td>0.180594</td>\n",
       "      <td>0.238831</td>\n",
       "      <td>9.933684</td>\n",
       "    </tr>\n",
       "    <tr>\n",
       "      <th>std</th>\n",
       "      <td>0.120093</td>\n",
       "      <td>0.099240</td>\n",
       "      <td>0.041827</td>\n",
       "      <td>0.490389</td>\n",
       "      <td>0.221963</td>\n",
       "      <td>0.109614</td>\n",
       "      <td>0.139203</td>\n",
       "      <td>3.224169</td>\n",
       "    </tr>\n",
       "    <tr>\n",
       "      <th>min</th>\n",
       "      <td>0.075000</td>\n",
       "      <td>0.055000</td>\n",
       "      <td>0.000000</td>\n",
       "      <td>0.002000</td>\n",
       "      <td>0.001000</td>\n",
       "      <td>0.000500</td>\n",
       "      <td>0.001500</td>\n",
       "      <td>1.000000</td>\n",
       "    </tr>\n",
       "    <tr>\n",
       "      <th>25%</th>\n",
       "      <td>0.450000</td>\n",
       "      <td>0.350000</td>\n",
       "      <td>0.115000</td>\n",
       "      <td>0.441500</td>\n",
       "      <td>0.186000</td>\n",
       "      <td>0.093500</td>\n",
       "      <td>0.130000</td>\n",
       "      <td>8.000000</td>\n",
       "    </tr>\n",
       "    <tr>\n",
       "      <th>50%</th>\n",
       "      <td>0.545000</td>\n",
       "      <td>0.425000</td>\n",
       "      <td>0.140000</td>\n",
       "      <td>0.799500</td>\n",
       "      <td>0.336000</td>\n",
       "      <td>0.171000</td>\n",
       "      <td>0.234000</td>\n",
       "      <td>9.000000</td>\n",
       "    </tr>\n",
       "    <tr>\n",
       "      <th>75%</th>\n",
       "      <td>0.615000</td>\n",
       "      <td>0.480000</td>\n",
       "      <td>0.165000</td>\n",
       "      <td>1.153000</td>\n",
       "      <td>0.502000</td>\n",
       "      <td>0.253000</td>\n",
       "      <td>0.329000</td>\n",
       "      <td>11.000000</td>\n",
       "    </tr>\n",
       "    <tr>\n",
       "      <th>max</th>\n",
       "      <td>0.815000</td>\n",
       "      <td>0.650000</td>\n",
       "      <td>1.130000</td>\n",
       "      <td>2.825500</td>\n",
       "      <td>1.488000</td>\n",
       "      <td>0.760000</td>\n",
       "      <td>1.005000</td>\n",
       "      <td>29.000000</td>\n",
       "    </tr>\n",
       "  </tbody>\n",
       "</table>\n",
       "</div>"
      ],
      "text/plain": [
       "            Length     Diameter       Height  Whole weight  Shucked weight  \\\n",
       "count  4177.000000  4177.000000  4177.000000   4177.000000     4177.000000   \n",
       "mean      0.523992     0.407881     0.139516      0.828742        0.359367   \n",
       "std       0.120093     0.099240     0.041827      0.490389        0.221963   \n",
       "min       0.075000     0.055000     0.000000      0.002000        0.001000   \n",
       "25%       0.450000     0.350000     0.115000      0.441500        0.186000   \n",
       "50%       0.545000     0.425000     0.140000      0.799500        0.336000   \n",
       "75%       0.615000     0.480000     0.165000      1.153000        0.502000   \n",
       "max       0.815000     0.650000     1.130000      2.825500        1.488000   \n",
       "\n",
       "       Viscera weight  Shell weight        Rings  \n",
       "count     4177.000000   4177.000000  4177.000000  \n",
       "mean         0.180594      0.238831     9.933684  \n",
       "std          0.109614      0.139203     3.224169  \n",
       "min          0.000500      0.001500     1.000000  \n",
       "25%          0.093500      0.130000     8.000000  \n",
       "50%          0.171000      0.234000     9.000000  \n",
       "75%          0.253000      0.329000    11.000000  \n",
       "max          0.760000      1.005000    29.000000  "
      ]
     },
     "execution_count": 35,
     "metadata": {},
     "output_type": "execute_result"
    }
   ],
   "source": [
    "df.describe()"
   ]
  },
  {
   "cell_type": "markdown",
   "id": "39c7fb72",
   "metadata": {},
   "source": [
    "## OUTLIERS AND REPLACE THE OUTLIERS"
   ]
  },
  {
   "cell_type": "markdown",
   "id": "af17c6a8",
   "metadata": {},
   "source": [
    "## OUTLIER DETECTION"
   ]
  },
  {
   "cell_type": "code",
   "execution_count": 36,
   "id": "edfd7b91",
   "metadata": {},
   "outputs": [
    {
     "name": "stderr",
     "output_type": "stream",
     "text": [
      "C:\\Users\\ELCOT\\anaconda3\\lib\\site-packages\\seaborn\\_decorators.py:36: FutureWarning: Pass the following variable as a keyword arg: x. From version 0.12, the only valid positional argument will be `data`, and passing other arguments without an explicit keyword will result in an error or misinterpretation.\n",
      "  warnings.warn(\n"
     ]
    },
    {
     "data": {
      "text/plain": [
       "<AxesSubplot:xlabel='Rings'>"
      ]
     },
     "execution_count": 36,
     "metadata": {},
     "output_type": "execute_result"
    },
    {
     "data": {
      "image/png": "[encoded data removed]",
      "text/plain": [
       "<Figure size 432x288 with 1 Axes>"
      ]
     },
     "metadata": {
      "needs_background": "light"
     },
     "output_type": "display_data"
    }
   ],
   "source": [
    "sns.boxplot(df.Rings)"
   ]
  },
  {
   "cell_type": "markdown",
   "id": "fbef9aa1",
   "metadata": {},
   "source": [
    "## OUTLIER REMOVAL-IQR METHOD"
   ]
  },
  {
   "cell_type": "code",
   "execution_count": 38,
   "id": "cd51d733",
   "metadata": {},
   "outputs": [],
   "source": [
    "Q1=df.Rings.quantile(0.25)\n",
    "Q3=df.Rings.quantile(0.75)"
   ]
  },
  {
   "cell_type": "code",
   "execution_count": 39,
   "id": "2eb2d0d9",
   "metadata": {},
   "outputs": [],
   "source": [
    "IQR=Q3-Q1"
   ]
  },
  {
   "cell_type": "code",
   "execution_count": 40,
   "id": "194a01f9",
   "metadata": {},
   "outputs": [],
   "source": [
    "upper_limit=Q3+1.5*IQR\n",
    "lower_limit=Q1-1.5*IQR"
   ]
  },
  {
   "cell_type": "code",
   "execution_count": 41,
   "id": "3bdd539f",
   "metadata": {},
   "outputs": [
    {
     "data": {
      "text/plain": [
       "15.5"
      ]
     },
     "execution_count": 41,
     "metadata": {},
     "output_type": "execute_result"
    }
   ],
   "source": [
    "upper_limit"
   ]
  },
  {
   "cell_type": "code",
   "execution_count": 42,
   "id": "53cada94",
   "metadata": {},
   "outputs": [
    {
     "data": {
      "text/plain": [
       "3.5"
      ]
     },
     "execution_count": 42,
     "metadata": {},
     "output_type": "execute_result"
    }
   ],
   "source": [
    "lower_limit"
   ]
  },
  {
   "cell_type": "code",
   "execution_count": 43,
   "id": "1d839608",
   "metadata": {},
   "outputs": [
    {
     "name": "stderr",
     "output_type": "stream",
     "text": [
      "C:\\Users\\ELCOT\\anaconda3\\lib\\site-packages\\seaborn\\_decorators.py:36: FutureWarning: Pass the following variable as a keyword arg: x. From version 0.12, the only valid positional argument will be `data`, and passing other arguments without an explicit keyword will result in an error or misinterpretation.\n",
      "  warnings.warn(\n"
     ]
    },
    {
     "data": {
      "text/plain": [
       "<AxesSubplot:xlabel='Rings'>"
      ]
     },
     "execution_count": 43,
     "metadata": {},
     "output_type": "execute_result"
    },
    {
     "data": {
      "image/png": "[encoded data removed]",
      "text/plain": [
       "<Figure size 432x288 with 1 Axes>"
      ]
     },
     "metadata": {
      "needs_background": "light"
     },
     "output_type": "display_data"
    }
   ],
   "source": [
    "df=df[df.Rings<upper_limit]\n",
    "sns.boxplot(df.Rings)"
   ]
  },
  {
   "cell_type": "code",
   "execution_count": 44,
   "id": "d549ccaa",
   "metadata": {},
   "outputs": [
    {
     "data": {
      "text/plain": [
       "(3916, 9)"
      ]
     },
     "execution_count": 44,
     "metadata": {},
     "output_type": "execute_result"
    }
   ],
   "source": [
    "df.shape"
   ]
  },
  {
   "cell_type": "markdown",
   "id": "9e1f8c95",
   "metadata": {},
   "source": [
    "## OUTLIER REPLACEMENT USING MEDIAN"
   ]
  },
  {
   "cell_type": "code",
   "execution_count": 45,
   "id": "aa5b4535",
   "metadata": {},
   "outputs": [
    {
     "name": "stderr",
     "output_type": "stream",
     "text": [
      "C:\\Users\\ELCOT\\anaconda3\\lib\\site-packages\\seaborn\\_decorators.py:36: FutureWarning: Pass the following variable as a keyword arg: x. From version 0.12, the only valid positional argument will be `data`, and passing other arguments without an explicit keyword will result in an error or misinterpretation.\n",
      "  warnings.warn(\n"
     ]
    },
    {
     "data": {
      "text/plain": [
       "<AxesSubplot:xlabel='Rings'>"
      ]
     },
     "execution_count": 45,
     "metadata": {},
     "output_type": "execute_result"
    },
    {
     "data": {
      "image/png": "[encoded data removed]",
      "text/plain": [
       "<Figure size 432x288 with 1 Axes>"
      ]
     },
     "metadata": {
      "needs_background": "light"
     },
     "output_type": "display_data"
    }
   ],
   "source": [
    "sns.boxplot(df.Rings)"
   ]
  },
  {
   "cell_type": "code",
   "execution_count": 46,
   "id": "ecfaf1cf",
   "metadata": {},
   "outputs": [
    {
     "name": "stderr",
     "output_type": "stream",
     "text": [
      "C:\\Users\\ELCOT\\AppData\\Local\\Temp\\ipykernel_10932\\530051474.py:1: FutureWarning: Dropping of nuisance columns in DataFrame reductions (with 'numeric_only=None') is deprecated; in a future version this will raise TypeError.  Select only valid columns before calling the reduction.\n",
      "  df.median()\n"
     ]
    },
    {
     "data": {
      "text/plain": [
       "Length            0.53500\n",
       "Diameter          0.42000\n",
       "Height            0.14000\n",
       "Whole weight      0.76700\n",
       "Shucked weight    0.32700\n",
       "Viscera weight    0.16425\n",
       "Shell weight      0.22000\n",
       "Rings             9.00000\n",
       "dtype: float64"
      ]
     },
     "execution_count": 46,
     "metadata": {},
     "output_type": "execute_result"
    }
   ],
   "source": [
    "df.median()"
   ]
  },
  {
   "cell_type": "code",
   "execution_count": 47,
   "id": "0bd44421",
   "metadata": {},
   "outputs": [],
   "source": [
    "Q1=df.Rings.quantile(0.25)\n",
    "Q3=df.Rings.quantile(0.75)"
   ]
  },
  {
   "cell_type": "code",
   "execution_count": 48,
   "id": "ec8ac66f",
   "metadata": {},
   "outputs": [],
   "source": [
    "IQR=Q3-Q1"
   ]
  },
  {
   "cell_type": "code",
   "execution_count": 49,
   "id": "4f702daa",
   "metadata": {},
   "outputs": [],
   "source": [
    "upper_limit=Q3+1.5*IQR\n",
    "lower_limit=Q1-1.5*IQR"
   ]
  },
  {
   "cell_type": "code",
   "execution_count": 50,
   "id": "55d8d8ba",
   "metadata": {},
   "outputs": [
    {
     "name": "stderr",
     "output_type": "stream",
     "text": [
      "C:\\Users\\ELCOT\\AppData\\Local\\Temp\\ipykernel_10932\\1044087164.py:1: SettingWithCopyWarning: \n",
      "A value is trying to be set on a copy of a slice from a DataFrame.\n",
      "Try using .loc[row_indexer,col_indexer] = value instead\n",
      "\n",
      "See the caveats in the documentation: https://pandas.pydata.org/pandas-docs/stable/user_guide/indexing.html#returning-a-view-versus-a-copy\n",
      "  df.Rings = np.where(df['Rings']>upper_limit, 3.700000e+01,df['Rings'])\n"
     ]
    }
   ],
   "source": [
    "df.Rings = np.where(df['Rings']>upper_limit, 3.700000e+01,df['Rings'])"
   ]
  },
  {
   "cell_type": "markdown",
   "id": "a8955615",
   "metadata": {},
   "source": [
    "## OUTLIER REMOVAL-PERCENTILE METHOD"
   ]
  },
  {
   "cell_type": "code",
   "execution_count": 52,
   "id": "81084131",
   "metadata": {},
   "outputs": [
    {
     "data": {
      "text/plain": [
       "14.0"
      ]
     },
     "execution_count": 52,
     "metadata": {},
     "output_type": "execute_result"
    }
   ],
   "source": [
    "p99=df.Rings.quantile(0.96)\n",
    "p99"
   ]
  },
  {
   "cell_type": "code",
   "execution_count": 53,
   "id": "6414e21b",
   "metadata": {},
   "outputs": [],
   "source": [
    "df=df[df.Rings<=p99]"
   ]
  },
  {
   "cell_type": "code",
   "execution_count": 54,
   "id": "fdce2df0",
   "metadata": {},
   "outputs": [
    {
     "name": "stderr",
     "output_type": "stream",
     "text": [
      "C:\\Users\\ELCOT\\anaconda3\\lib\\site-packages\\seaborn\\_decorators.py:36: FutureWarning: Pass the following variable as a keyword arg: x. From version 0.12, the only valid positional argument will be `data`, and passing other arguments without an explicit keyword will result in an error or misinterpretation.\n",
      "  warnings.warn(\n"
     ]
    },
    {
     "data": {
      "text/plain": [
       "<AxesSubplot:xlabel='Rings'>"
      ]
     },
     "execution_count": 54,
     "metadata": {},
     "output_type": "execute_result"
    },
    {
     "data": {
      "image/png": "[encoded data removed]",
      "text/plain": [
       "<Figure size 432x288 with 1 Axes>"
      ]
     },
     "metadata": {
      "needs_background": "light"
     },
     "output_type": "display_data"
    }
   ],
   "source": [
    "sns.boxplot(df.Rings)"
   ]
  },
  {
   "cell_type": "markdown",
   "id": "750380ca",
   "metadata": {},
   "source": [
    "## CHECK FOR CATEGORICAL COLUMNS AND PERFORM ENCODING "
   ]
  },
  {
   "cell_type": "code",
   "execution_count": 55,
   "id": "26fa535c",
   "metadata": {},
   "outputs": [
    {
     "data": {
      "text/html": [
       "<div>\n",
       "<style scoped>\n",
       "    .dataframe tbody tr th:only-of-type {\n",
       "        vertical-align: middle;\n",
       "    }\n",
       "\n",
       "    .dataframe tbody tr th {\n",
       "        vertical-align: top;\n",
       "    }\n",
       "\n",
       "    .dataframe thead th {\n",
       "        text-align: right;\n",
       "    }\n",
       "</style>\n",
       "<table border=\"1\" class=\"dataframe\">\n",
       "  <thead>\n",
       "    <tr style=\"text-align: right;\">\n",
       "      <th></th>\n",
       "      <th>Sex</th>\n",
       "      <th>Length</th>\n",
       "      <th>Diameter</th>\n",
       "      <th>Height</th>\n",
       "      <th>Whole weight</th>\n",
       "      <th>Shucked weight</th>\n",
       "      <th>Viscera weight</th>\n",
       "      <th>Shell weight</th>\n",
       "      <th>Rings</th>\n",
       "    </tr>\n",
       "  </thead>\n",
       "  <tbody>\n",
       "    <tr>\n",
       "      <th>1</th>\n",
       "      <td>M</td>\n",
       "      <td>0.350</td>\n",
       "      <td>0.265</td>\n",
       "      <td>0.090</td>\n",
       "      <td>0.2255</td>\n",
       "      <td>0.0995</td>\n",
       "      <td>0.0485</td>\n",
       "      <td>0.070</td>\n",
       "      <td>7.0</td>\n",
       "    </tr>\n",
       "    <tr>\n",
       "      <th>2</th>\n",
       "      <td>F</td>\n",
       "      <td>0.530</td>\n",
       "      <td>0.420</td>\n",
       "      <td>0.135</td>\n",
       "      <td>0.6770</td>\n",
       "      <td>0.2565</td>\n",
       "      <td>0.1415</td>\n",
       "      <td>0.210</td>\n",
       "      <td>9.0</td>\n",
       "    </tr>\n",
       "    <tr>\n",
       "      <th>3</th>\n",
       "      <td>M</td>\n",
       "      <td>0.440</td>\n",
       "      <td>0.365</td>\n",
       "      <td>0.125</td>\n",
       "      <td>0.5160</td>\n",
       "      <td>0.2155</td>\n",
       "      <td>0.1140</td>\n",
       "      <td>0.155</td>\n",
       "      <td>10.0</td>\n",
       "    </tr>\n",
       "    <tr>\n",
       "      <th>4</th>\n",
       "      <td>I</td>\n",
       "      <td>0.330</td>\n",
       "      <td>0.255</td>\n",
       "      <td>0.080</td>\n",
       "      <td>0.2050</td>\n",
       "      <td>0.0895</td>\n",
       "      <td>0.0395</td>\n",
       "      <td>0.055</td>\n",
       "      <td>7.0</td>\n",
       "    </tr>\n",
       "    <tr>\n",
       "      <th>5</th>\n",
       "      <td>I</td>\n",
       "      <td>0.425</td>\n",
       "      <td>0.300</td>\n",
       "      <td>0.095</td>\n",
       "      <td>0.3515</td>\n",
       "      <td>0.1410</td>\n",
       "      <td>0.0775</td>\n",
       "      <td>0.120</td>\n",
       "      <td>8.0</td>\n",
       "    </tr>\n",
       "  </tbody>\n",
       "</table>\n",
       "</div>"
      ],
      "text/plain": [
       "  Sex  Length  Diameter  Height  Whole weight  Shucked weight  Viscera weight  \\\n",
       "1   M   0.350     0.265   0.090        0.2255          0.0995          0.0485   \n",
       "2   F   0.530     0.420   0.135        0.6770          0.2565          0.1415   \n",
       "3   M   0.440     0.365   0.125        0.5160          0.2155          0.1140   \n",
       "4   I   0.330     0.255   0.080        0.2050          0.0895          0.0395   \n",
       "5   I   0.425     0.300   0.095        0.3515          0.1410          0.0775   \n",
       "\n",
       "   Shell weight  Rings  \n",
       "1         0.070    7.0  \n",
       "2         0.210    9.0  \n",
       "3         0.155   10.0  \n",
       "4         0.055    7.0  \n",
       "5         0.120    8.0  "
      ]
     },
     "execution_count": 55,
     "metadata": {},
     "output_type": "execute_result"
    }
   ],
   "source": [
    "df.head()"
   ]
  },
  {
   "cell_type": "code",
   "execution_count": 56,
   "id": "a71c05f5",
   "metadata": {},
   "outputs": [
    {
     "name": "stdout",
     "output_type": "stream",
     "text": [
      "<class 'pandas.core.frame.DataFrame'>\n",
      "Int64Index: 3813 entries, 1 to 4176\n",
      "Data columns (total 9 columns):\n",
      " #   Column          Non-Null Count  Dtype  \n",
      "---  ------          --------------  -----  \n",
      " 0   Sex             3813 non-null   object \n",
      " 1   Length          3813 non-null   float64\n",
      " 2   Diameter        3813 non-null   float64\n",
      " 3   Height          3813 non-null   float64\n",
      " 4   Whole weight    3813 non-null   float64\n",
      " 5   Shucked weight  3813 non-null   float64\n",
      " 6   Viscera weight  3813 non-null   float64\n",
      " 7   Shell weight    3813 non-null   float64\n",
      " 8   Rings           3813 non-null   float64\n",
      "dtypes: float64(8), object(1)\n",
      "memory usage: 297.9+ KB\n"
     ]
    }
   ],
   "source": [
    "df.info()"
   ]
  },
  {
   "cell_type": "markdown",
   "id": "21b00afe",
   "metadata": {},
   "source": [
    "## LABEL ENCODING"
   ]
  },
  {
   "cell_type": "code",
   "execution_count": 57,
   "id": "1baaaab5",
   "metadata": {},
   "outputs": [],
   "source": [
    "from sklearn.preprocessing import LabelEncoder"
   ]
  },
  {
   "cell_type": "code",
   "execution_count": 58,
   "id": "32d919d3",
   "metadata": {},
   "outputs": [],
   "source": [
    "le=LabelEncoder()"
   ]
  },
  {
   "cell_type": "code",
   "execution_count": 59,
   "id": "f1f2198a",
   "metadata": {},
   "outputs": [
    {
     "name": "stderr",
     "output_type": "stream",
     "text": [
      "C:\\Users\\ELCOT\\AppData\\Local\\Temp\\ipykernel_10932\\2439010502.py:1: SettingWithCopyWarning: \n",
      "A value is trying to be set on a copy of a slice from a DataFrame.\n",
      "Try using .loc[row_indexer,col_indexer] = value instead\n",
      "\n",
      "See the caveats in the documentation: https://pandas.pydata.org/pandas-docs/stable/user_guide/indexing.html#returning-a-view-versus-a-copy\n",
      "  df.Diameter = le.fit_transform(df.Diameter)\n",
      "C:\\Users\\ELCOT\\AppData\\Local\\Temp\\ipykernel_10932\\2439010502.py:2: SettingWithCopyWarning: \n",
      "A value is trying to be set on a copy of a slice from a DataFrame.\n",
      "Try using .loc[row_indexer,col_indexer] = value instead\n",
      "\n",
      "See the caveats in the documentation: https://pandas.pydata.org/pandas-docs/stable/user_guide/indexing.html#returning-a-view-versus-a-copy\n",
      "  df.Length = le.fit_transform(df.Length)\n"
     ]
    }
   ],
   "source": [
    "df.Diameter = le.fit_transform(df.Diameter)\n",
    "df.Length = le.fit_transform(df.Length)"
   ]
  },
  {
   "cell_type": "code",
   "execution_count": 60,
   "id": "c95fcc6a",
   "metadata": {},
   "outputs": [
    {
     "data": {
      "text/html": [
       "<div>\n",
       "<style scoped>\n",
       "    .dataframe tbody tr th:only-of-type {\n",
       "        vertical-align: middle;\n",
       "    }\n",
       "\n",
       "    .dataframe tbody tr th {\n",
       "        vertical-align: top;\n",
       "    }\n",
       "\n",
       "    .dataframe thead th {\n",
       "        text-align: right;\n",
       "    }\n",
       "</style>\n",
       "<table border=\"1\" class=\"dataframe\">\n",
       "  <thead>\n",
       "    <tr style=\"text-align: right;\">\n",
       "      <th></th>\n",
       "      <th>Sex</th>\n",
       "      <th>Length</th>\n",
       "      <th>Diameter</th>\n",
       "      <th>Height</th>\n",
       "      <th>Whole weight</th>\n",
       "      <th>Shucked weight</th>\n",
       "      <th>Viscera weight</th>\n",
       "      <th>Shell weight</th>\n",
       "      <th>Rings</th>\n",
       "    </tr>\n",
       "  </thead>\n",
       "  <tbody>\n",
       "    <tr>\n",
       "      <th>1</th>\n",
       "      <td>M</td>\n",
       "      <td>45</td>\n",
       "      <td>36</td>\n",
       "      <td>0.090</td>\n",
       "      <td>0.2255</td>\n",
       "      <td>0.0995</td>\n",
       "      <td>0.0485</td>\n",
       "      <td>0.070</td>\n",
       "      <td>7.0</td>\n",
       "    </tr>\n",
       "    <tr>\n",
       "      <th>2</th>\n",
       "      <td>F</td>\n",
       "      <td>81</td>\n",
       "      <td>67</td>\n",
       "      <td>0.135</td>\n",
       "      <td>0.6770</td>\n",
       "      <td>0.2565</td>\n",
       "      <td>0.1415</td>\n",
       "      <td>0.210</td>\n",
       "      <td>9.0</td>\n",
       "    </tr>\n",
       "    <tr>\n",
       "      <th>3</th>\n",
       "      <td>M</td>\n",
       "      <td>63</td>\n",
       "      <td>56</td>\n",
       "      <td>0.125</td>\n",
       "      <td>0.5160</td>\n",
       "      <td>0.2155</td>\n",
       "      <td>0.1140</td>\n",
       "      <td>0.155</td>\n",
       "      <td>10.0</td>\n",
       "    </tr>\n",
       "    <tr>\n",
       "      <th>4</th>\n",
       "      <td>I</td>\n",
       "      <td>41</td>\n",
       "      <td>34</td>\n",
       "      <td>0.080</td>\n",
       "      <td>0.2050</td>\n",
       "      <td>0.0895</td>\n",
       "      <td>0.0395</td>\n",
       "      <td>0.055</td>\n",
       "      <td>7.0</td>\n",
       "    </tr>\n",
       "    <tr>\n",
       "      <th>5</th>\n",
       "      <td>I</td>\n",
       "      <td>60</td>\n",
       "      <td>43</td>\n",
       "      <td>0.095</td>\n",
       "      <td>0.3515</td>\n",
       "      <td>0.1410</td>\n",
       "      <td>0.0775</td>\n",
       "      <td>0.120</td>\n",
       "      <td>8.0</td>\n",
       "    </tr>\n",
       "  </tbody>\n",
       "</table>\n",
       "</div>"
      ],
      "text/plain": [
       "  Sex  Length  Diameter  Height  Whole weight  Shucked weight  Viscera weight  \\\n",
       "1   M      45        36   0.090        0.2255          0.0995          0.0485   \n",
       "2   F      81        67   0.135        0.6770          0.2565          0.1415   \n",
       "3   M      63        56   0.125        0.5160          0.2155          0.1140   \n",
       "4   I      41        34   0.080        0.2050          0.0895          0.0395   \n",
       "5   I      60        43   0.095        0.3515          0.1410          0.0775   \n",
       "\n",
       "   Shell weight  Rings  \n",
       "1         0.070    7.0  \n",
       "2         0.210    9.0  \n",
       "3         0.155   10.0  \n",
       "4         0.055    7.0  \n",
       "5         0.120    8.0  "
      ]
     },
     "execution_count": 60,
     "metadata": {},
     "output_type": "execute_result"
    }
   ],
   "source": [
    "df.head()"
   ]
  },
  {
   "cell_type": "markdown",
   "id": "e64303b0",
   "metadata": {},
   "source": [
    "## ONE HOT ENCODING"
   ]
  },
  {
   "cell_type": "code",
   "execution_count": 61,
   "id": "022e71bf",
   "metadata": {},
   "outputs": [
    {
     "data": {
      "text/html": [
       "<div>\n",
       "<style scoped>\n",
       "    .dataframe tbody tr th:only-of-type {\n",
       "        vertical-align: middle;\n",
       "    }\n",
       "\n",
       "    .dataframe tbody tr th {\n",
       "        vertical-align: top;\n",
       "    }\n",
       "\n",
       "    .dataframe thead th {\n",
       "        text-align: right;\n",
       "    }\n",
       "</style>\n",
       "<table border=\"1\" class=\"dataframe\">\n",
       "  <thead>\n",
       "    <tr style=\"text-align: right;\">\n",
       "      <th></th>\n",
       "      <th>Length</th>\n",
       "      <th>Diameter</th>\n",
       "      <th>Height</th>\n",
       "      <th>Whole weight</th>\n",
       "      <th>Shucked weight</th>\n",
       "      <th>Viscera weight</th>\n",
       "      <th>Shell weight</th>\n",
       "      <th>Rings</th>\n",
       "      <th>Sex_F</th>\n",
       "      <th>Sex_I</th>\n",
       "      <th>Sex_M</th>\n",
       "    </tr>\n",
       "  </thead>\n",
       "  <tbody>\n",
       "    <tr>\n",
       "      <th>1</th>\n",
       "      <td>45</td>\n",
       "      <td>36</td>\n",
       "      <td>0.090</td>\n",
       "      <td>0.2255</td>\n",
       "      <td>0.0995</td>\n",
       "      <td>0.0485</td>\n",
       "      <td>0.070</td>\n",
       "      <td>7.0</td>\n",
       "      <td>0</td>\n",
       "      <td>0</td>\n",
       "      <td>1</td>\n",
       "    </tr>\n",
       "    <tr>\n",
       "      <th>2</th>\n",
       "      <td>81</td>\n",
       "      <td>67</td>\n",
       "      <td>0.135</td>\n",
       "      <td>0.6770</td>\n",
       "      <td>0.2565</td>\n",
       "      <td>0.1415</td>\n",
       "      <td>0.210</td>\n",
       "      <td>9.0</td>\n",
       "      <td>1</td>\n",
       "      <td>0</td>\n",
       "      <td>0</td>\n",
       "    </tr>\n",
       "    <tr>\n",
       "      <th>3</th>\n",
       "      <td>63</td>\n",
       "      <td>56</td>\n",
       "      <td>0.125</td>\n",
       "      <td>0.5160</td>\n",
       "      <td>0.2155</td>\n",
       "      <td>0.1140</td>\n",
       "      <td>0.155</td>\n",
       "      <td>10.0</td>\n",
       "      <td>0</td>\n",
       "      <td>0</td>\n",
       "      <td>1</td>\n",
       "    </tr>\n",
       "    <tr>\n",
       "      <th>4</th>\n",
       "      <td>41</td>\n",
       "      <td>34</td>\n",
       "      <td>0.080</td>\n",
       "      <td>0.2050</td>\n",
       "      <td>0.0895</td>\n",
       "      <td>0.0395</td>\n",
       "      <td>0.055</td>\n",
       "      <td>7.0</td>\n",
       "      <td>0</td>\n",
       "      <td>1</td>\n",
       "      <td>0</td>\n",
       "    </tr>\n",
       "    <tr>\n",
       "      <th>5</th>\n",
       "      <td>60</td>\n",
       "      <td>43</td>\n",
       "      <td>0.095</td>\n",
       "      <td>0.3515</td>\n",
       "      <td>0.1410</td>\n",
       "      <td>0.0775</td>\n",
       "      <td>0.120</td>\n",
       "      <td>8.0</td>\n",
       "      <td>0</td>\n",
       "      <td>1</td>\n",
       "      <td>0</td>\n",
       "    </tr>\n",
       "  </tbody>\n",
       "</table>\n",
       "</div>"
      ],
      "text/plain": [
       "   Length  Diameter  Height  Whole weight  Shucked weight  Viscera weight  \\\n",
       "1      45        36   0.090        0.2255          0.0995          0.0485   \n",
       "2      81        67   0.135        0.6770          0.2565          0.1415   \n",
       "3      63        56   0.125        0.5160          0.2155          0.1140   \n",
       "4      41        34   0.080        0.2050          0.0895          0.0395   \n",
       "5      60        43   0.095        0.3515          0.1410          0.0775   \n",
       "\n",
       "   Shell weight  Rings  Sex_F  Sex_I  Sex_M  \n",
       "1         0.070    7.0      0      0      1  \n",
       "2         0.210    9.0      1      0      0  \n",
       "3         0.155   10.0      0      0      1  \n",
       "4         0.055    7.0      0      1      0  \n",
       "5         0.120    8.0      0      1      0  "
      ]
     },
     "execution_count": 61,
     "metadata": {},
     "output_type": "execute_result"
    }
   ],
   "source": [
    "df_main=pd.get_dummies(df,columns=['Sex'])\n",
    "df_main.head()"
   ]
  },
  {
   "cell_type": "code",
   "execution_count": 62,
   "id": "a66345bc",
   "metadata": {},
   "outputs": [
    {
     "data": {
      "text/html": [
       "<div>\n",
       "<style scoped>\n",
       "    .dataframe tbody tr th:only-of-type {\n",
       "        vertical-align: middle;\n",
       "    }\n",
       "\n",
       "    .dataframe tbody tr th {\n",
       "        vertical-align: top;\n",
       "    }\n",
       "\n",
       "    .dataframe thead th {\n",
       "        text-align: right;\n",
       "    }\n",
       "</style>\n",
       "<table border=\"1\" class=\"dataframe\">\n",
       "  <thead>\n",
       "    <tr style=\"text-align: right;\">\n",
       "      <th></th>\n",
       "      <th>Length</th>\n",
       "      <th>Diameter</th>\n",
       "      <th>Height</th>\n",
       "      <th>Whole weight</th>\n",
       "      <th>Shucked weight</th>\n",
       "      <th>Viscera weight</th>\n",
       "      <th>Shell weight</th>\n",
       "      <th>Rings</th>\n",
       "      <th>Sex_F</th>\n",
       "      <th>Sex_I</th>\n",
       "      <th>Sex_M</th>\n",
       "    </tr>\n",
       "  </thead>\n",
       "  <tbody>\n",
       "    <tr>\n",
       "      <th>count</th>\n",
       "      <td>3813.000000</td>\n",
       "      <td>3813.000000</td>\n",
       "      <td>3813.000000</td>\n",
       "      <td>3813.000000</td>\n",
       "      <td>3813.000000</td>\n",
       "      <td>3813.000000</td>\n",
       "      <td>3813.000000</td>\n",
       "      <td>3813.000000</td>\n",
       "      <td>3813.000000</td>\n",
       "      <td>3813.000000</td>\n",
       "      <td>3813.000000</td>\n",
       "    </tr>\n",
       "    <tr>\n",
       "      <th>mean</th>\n",
       "      <td>78.509310</td>\n",
       "      <td>63.405455</td>\n",
       "      <td>0.136605</td>\n",
       "      <td>0.797333</td>\n",
       "      <td>0.352326</td>\n",
       "      <td>0.174804</td>\n",
       "      <td>0.225909</td>\n",
       "      <td>9.229216</td>\n",
       "      <td>0.300026</td>\n",
       "      <td>0.343037</td>\n",
       "      <td>0.356937</td>\n",
       "    </tr>\n",
       "    <tr>\n",
       "      <th>std</th>\n",
       "      <td>24.336736</td>\n",
       "      <td>20.031895</td>\n",
       "      <td>0.041770</td>\n",
       "      <td>0.485060</td>\n",
       "      <td>0.225341</td>\n",
       "      <td>0.109488</td>\n",
       "      <td>0.131394</td>\n",
       "      <td>2.265420</td>\n",
       "      <td>0.458329</td>\n",
       "      <td>0.474786</td>\n",
       "      <td>0.479159</td>\n",
       "    </tr>\n",
       "    <tr>\n",
       "      <th>min</th>\n",
       "      <td>0.000000</td>\n",
       "      <td>0.000000</td>\n",
       "      <td>0.000000</td>\n",
       "      <td>0.002000</td>\n",
       "      <td>0.001000</td>\n",
       "      <td>0.000500</td>\n",
       "      <td>0.001500</td>\n",
       "      <td>1.000000</td>\n",
       "      <td>0.000000</td>\n",
       "      <td>0.000000</td>\n",
       "      <td>0.000000</td>\n",
       "    </tr>\n",
       "    <tr>\n",
       "      <th>25%</th>\n",
       "      <td>63.000000</td>\n",
       "      <td>51.000000</td>\n",
       "      <td>0.110000</td>\n",
       "      <td>0.409000</td>\n",
       "      <td>0.173500</td>\n",
       "      <td>0.086500</td>\n",
       "      <td>0.120000</td>\n",
       "      <td>8.000000</td>\n",
       "      <td>0.000000</td>\n",
       "      <td>0.000000</td>\n",
       "      <td>0.000000</td>\n",
       "    </tr>\n",
       "    <tr>\n",
       "      <th>50%</th>\n",
       "      <td>82.000000</td>\n",
       "      <td>67.000000</td>\n",
       "      <td>0.140000</td>\n",
       "      <td>0.758500</td>\n",
       "      <td>0.324500</td>\n",
       "      <td>0.162500</td>\n",
       "      <td>0.219500</td>\n",
       "      <td>9.000000</td>\n",
       "      <td>0.000000</td>\n",
       "      <td>0.000000</td>\n",
       "      <td>0.000000</td>\n",
       "    </tr>\n",
       "    <tr>\n",
       "      <th>75%</th>\n",
       "      <td>97.000000</td>\n",
       "      <td>78.000000</td>\n",
       "      <td>0.165000</td>\n",
       "      <td>1.128500</td>\n",
       "      <td>0.497500</td>\n",
       "      <td>0.246000</td>\n",
       "      <td>0.315000</td>\n",
       "      <td>11.000000</td>\n",
       "      <td>1.000000</td>\n",
       "      <td>1.000000</td>\n",
       "      <td>1.000000</td>\n",
       "    </tr>\n",
       "    <tr>\n",
       "      <th>max</th>\n",
       "      <td>132.000000</td>\n",
       "      <td>110.000000</td>\n",
       "      <td>1.130000</td>\n",
       "      <td>2.779500</td>\n",
       "      <td>1.488000</td>\n",
       "      <td>0.760000</td>\n",
       "      <td>0.797500</td>\n",
       "      <td>14.000000</td>\n",
       "      <td>1.000000</td>\n",
       "      <td>1.000000</td>\n",
       "      <td>1.000000</td>\n",
       "    </tr>\n",
       "  </tbody>\n",
       "</table>\n",
       "</div>"
      ],
      "text/plain": [
       "            Length     Diameter       Height  Whole weight  Shucked weight  \\\n",
       "count  3813.000000  3813.000000  3813.000000   3813.000000     3813.000000   \n",
       "mean     78.509310    63.405455     0.136605      0.797333        0.352326   \n",
       "std      24.336736    20.031895     0.041770      0.485060        0.225341   \n",
       "min       0.000000     0.000000     0.000000      0.002000        0.001000   \n",
       "25%      63.000000    51.000000     0.110000      0.409000        0.173500   \n",
       "50%      82.000000    67.000000     0.140000      0.758500        0.324500   \n",
       "75%      97.000000    78.000000     0.165000      1.128500        0.497500   \n",
       "max     132.000000   110.000000     1.130000      2.779500        1.488000   \n",
       "\n",
       "       Viscera weight  Shell weight        Rings        Sex_F        Sex_I  \\\n",
       "count     3813.000000   3813.000000  3813.000000  3813.000000  3813.000000   \n",
       "mean         0.174804      0.225909     9.229216     0.300026     0.343037   \n",
       "std          0.109488      0.131394     2.265420     0.458329     0.474786   \n",
       "min          0.000500      0.001500     1.000000     0.000000     0.000000   \n",
       "25%          0.086500      0.120000     8.000000     0.000000     0.000000   \n",
       "50%          0.162500      0.219500     9.000000     0.000000     0.000000   \n",
       "75%          0.246000      0.315000    11.000000     1.000000     1.000000   \n",
       "max          0.760000      0.797500    14.000000     1.000000     1.000000   \n",
       "\n",
       "             Sex_M  \n",
       "count  3813.000000  \n",
       "mean      0.356937  \n",
       "std       0.479159  \n",
       "min       0.000000  \n",
       "25%       0.000000  \n",
       "50%       0.000000  \n",
       "75%       1.000000  \n",
       "max       1.000000  "
      ]
     },
     "execution_count": 62,
     "metadata": {},
     "output_type": "execute_result"
    }
   ],
   "source": [
    "df_main.describe()"
   ]
  },
  {
   "cell_type": "markdown",
   "id": "389e6149",
   "metadata": {},
   "source": [
    "## CORRELATION"
   ]
  },
  {
   "cell_type": "code",
   "execution_count": 63,
   "id": "bd4b62cc",
   "metadata": {},
   "outputs": [
    {
     "data": {
      "text/html": [
       "<div>\n",
       "<style scoped>\n",
       "    .dataframe tbody tr th:only-of-type {\n",
       "        vertical-align: middle;\n",
       "    }\n",
       "\n",
       "    .dataframe tbody tr th {\n",
       "        vertical-align: top;\n",
       "    }\n",
       "\n",
       "    .dataframe thead th {\n",
       "        text-align: right;\n",
       "    }\n",
       "</style>\n",
       "<table border=\"1\" class=\"dataframe\">\n",
       "  <thead>\n",
       "    <tr style=\"text-align: right;\">\n",
       "      <th></th>\n",
       "      <th>Length</th>\n",
       "      <th>Diameter</th>\n",
       "      <th>Height</th>\n",
       "      <th>Whole weight</th>\n",
       "      <th>Shucked weight</th>\n",
       "      <th>Viscera weight</th>\n",
       "      <th>Shell weight</th>\n",
       "      <th>Rings</th>\n",
       "      <th>Sex_F</th>\n",
       "      <th>Sex_I</th>\n",
       "      <th>Sex_M</th>\n",
       "    </tr>\n",
       "  </thead>\n",
       "  <tbody>\n",
       "    <tr>\n",
       "      <th>Length</th>\n",
       "      <td>1.000000</td>\n",
       "      <td>0.987349</td>\n",
       "      <td>0.826949</td>\n",
       "      <td>0.926850</td>\n",
       "      <td>0.899736</td>\n",
       "      <td>0.904493</td>\n",
       "      <td>0.915713</td>\n",
       "      <td>0.656926</td>\n",
       "      <td>0.317130</td>\n",
       "      <td>-0.551419</td>\n",
       "      <td>0.243043</td>\n",
       "    </tr>\n",
       "    <tr>\n",
       "      <th>Diameter</th>\n",
       "      <td>0.987349</td>\n",
       "      <td>1.000000</td>\n",
       "      <td>0.831837</td>\n",
       "      <td>0.926090</td>\n",
       "      <td>0.895197</td>\n",
       "      <td>0.900572</td>\n",
       "      <td>0.921575</td>\n",
       "      <td>0.669316</td>\n",
       "      <td>0.325902</td>\n",
       "      <td>-0.564284</td>\n",
       "      <td>0.247399</td>\n",
       "    </tr>\n",
       "    <tr>\n",
       "      <th>Height</th>\n",
       "      <td>0.826949</td>\n",
       "      <td>0.831837</td>\n",
       "      <td>1.000000</td>\n",
       "      <td>0.816228</td>\n",
       "      <td>0.780563</td>\n",
       "      <td>0.798975</td>\n",
       "      <td>0.820171</td>\n",
       "      <td>0.608642</td>\n",
       "      <td>0.306102</td>\n",
       "      <td>-0.517592</td>\n",
       "      <td>0.220074</td>\n",
       "    </tr>\n",
       "    <tr>\n",
       "      <th>Whole weight</th>\n",
       "      <td>0.926850</td>\n",
       "      <td>0.926090</td>\n",
       "      <td>0.816228</td>\n",
       "      <td>1.000000</td>\n",
       "      <td>0.976382</td>\n",
       "      <td>0.969556</td>\n",
       "      <td>0.963610</td>\n",
       "      <td>0.603568</td>\n",
       "      <td>0.310233</td>\n",
       "      <td>-0.563920</td>\n",
       "      <td>0.262028</td>\n",
       "    </tr>\n",
       "    <tr>\n",
       "      <th>Shucked weight</th>\n",
       "      <td>0.899736</td>\n",
       "      <td>0.895197</td>\n",
       "      <td>0.780563</td>\n",
       "      <td>0.976382</td>\n",
       "      <td>1.000000</td>\n",
       "      <td>0.936435</td>\n",
       "      <td>0.909998</td>\n",
       "      <td>0.526884</td>\n",
       "      <td>0.275891</td>\n",
       "      <td>-0.530755</td>\n",
       "      <td>0.262013</td>\n",
       "    </tr>\n",
       "    <tr>\n",
       "      <th>Viscera weight</th>\n",
       "      <td>0.904493</td>\n",
       "      <td>0.900572</td>\n",
       "      <td>0.798975</td>\n",
       "      <td>0.969556</td>\n",
       "      <td>0.936435</td>\n",
       "      <td>1.000000</td>\n",
       "      <td>0.926634</td>\n",
       "      <td>0.589874</td>\n",
       "      <td>0.318591</td>\n",
       "      <td>-0.563249</td>\n",
       "      <td>0.253368</td>\n",
       "    </tr>\n",
       "    <tr>\n",
       "      <th>Shell weight</th>\n",
       "      <td>0.915713</td>\n",
       "      <td>0.921575</td>\n",
       "      <td>0.820171</td>\n",
       "      <td>0.963610</td>\n",
       "      <td>0.909998</td>\n",
       "      <td>0.926634</td>\n",
       "      <td>1.000000</td>\n",
       "      <td>0.657965</td>\n",
       "      <td>0.321123</td>\n",
       "      <td>-0.559610</td>\n",
       "      <td>0.247339</td>\n",
       "    </tr>\n",
       "    <tr>\n",
       "      <th>Rings</th>\n",
       "      <td>0.656926</td>\n",
       "      <td>0.669316</td>\n",
       "      <td>0.608642</td>\n",
       "      <td>0.603568</td>\n",
       "      <td>0.526884</td>\n",
       "      <td>0.589874</td>\n",
       "      <td>0.657965</td>\n",
       "      <td>1.000000</td>\n",
       "      <td>0.284934</td>\n",
       "      <td>-0.500668</td>\n",
       "      <td>0.223552</td>\n",
       "    </tr>\n",
       "    <tr>\n",
       "      <th>Sex_F</th>\n",
       "      <td>0.317130</td>\n",
       "      <td>0.325902</td>\n",
       "      <td>0.306102</td>\n",
       "      <td>0.310233</td>\n",
       "      <td>0.275891</td>\n",
       "      <td>0.318591</td>\n",
       "      <td>0.321123</td>\n",
       "      <td>0.284934</td>\n",
       "      <td>1.000000</td>\n",
       "      <td>-0.473085</td>\n",
       "      <td>-0.487762</td>\n",
       "    </tr>\n",
       "    <tr>\n",
       "      <th>Sex_I</th>\n",
       "      <td>-0.551419</td>\n",
       "      <td>-0.564284</td>\n",
       "      <td>-0.517592</td>\n",
       "      <td>-0.563920</td>\n",
       "      <td>-0.530755</td>\n",
       "      <td>-0.563249</td>\n",
       "      <td>-0.559610</td>\n",
       "      <td>-0.500668</td>\n",
       "      <td>-0.473085</td>\n",
       "      <td>1.000000</td>\n",
       "      <td>-0.538355</td>\n",
       "    </tr>\n",
       "    <tr>\n",
       "      <th>Sex_M</th>\n",
       "      <td>0.243043</td>\n",
       "      <td>0.247399</td>\n",
       "      <td>0.220074</td>\n",
       "      <td>0.262028</td>\n",
       "      <td>0.262013</td>\n",
       "      <td>0.253368</td>\n",
       "      <td>0.247339</td>\n",
       "      <td>0.223552</td>\n",
       "      <td>-0.487762</td>\n",
       "      <td>-0.538355</td>\n",
       "      <td>1.000000</td>\n",
       "    </tr>\n",
       "  </tbody>\n",
       "</table>\n",
       "</div>"
      ],
      "text/plain": [
       "                  Length  Diameter    Height  Whole weight  Shucked weight  \\\n",
       "Length          1.000000  0.987349  0.826949      0.926850        0.899736   \n",
       "Diameter        0.987349  1.000000  0.831837      0.926090        0.895197   \n",
       "Height          0.826949  0.831837  1.000000      0.816228        0.780563   \n",
       "Whole weight    0.926850  0.926090  0.816228      1.000000        0.976382   \n",
       "Shucked weight  0.899736  0.895197  0.780563      0.976382        1.000000   \n",
       "Viscera weight  0.904493  0.900572  0.798975      0.969556        0.936435   \n",
       "Shell weight    0.915713  0.921575  0.820171      0.963610        0.909998   \n",
       "Rings           0.656926  0.669316  0.608642      0.603568        0.526884   \n",
       "Sex_F           0.317130  0.325902  0.306102      0.310233        0.275891   \n",
       "Sex_I          -0.551419 -0.564284 -0.517592     -0.563920       -0.530755   \n",
       "Sex_M           0.243043  0.247399  0.220074      0.262028        0.262013   \n",
       "\n",
       "                Viscera weight  Shell weight     Rings     Sex_F     Sex_I  \\\n",
       "Length                0.904493      0.915713  0.656926  0.317130 -0.551419   \n",
       "Diameter              0.900572      0.921575  0.669316  0.325902 -0.564284   \n",
       "Height                0.798975      0.820171  0.608642  0.306102 -0.517592   \n",
       "Whole weight          0.969556      0.963610  0.603568  0.310233 -0.563920   \n",
       "Shucked weight        0.936435      0.909998  0.526884  0.275891 -0.530755   \n",
       "Viscera weight        1.000000      0.926634  0.589874  0.318591 -0.563249   \n",
       "Shell weight          0.926634      1.000000  0.657965  0.321123 -0.559610   \n",
       "Rings                 0.589874      0.657965  1.000000  0.284934 -0.500668   \n",
       "Sex_F                 0.318591      0.321123  0.284934  1.000000 -0.473085   \n",
       "Sex_I                -0.563249     -0.559610 -0.500668 -0.473085  1.000000   \n",
       "Sex_M                 0.253368      0.247339  0.223552 -0.487762 -0.538355   \n",
       "\n",
       "                   Sex_M  \n",
       "Length          0.243043  \n",
       "Diameter        0.247399  \n",
       "Height          0.220074  \n",
       "Whole weight    0.262028  \n",
       "Shucked weight  0.262013  \n",
       "Viscera weight  0.253368  \n",
       "Shell weight    0.247339  \n",
       "Rings           0.223552  \n",
       "Sex_F          -0.487762  \n",
       "Sex_I          -0.538355  \n",
       "Sex_M           1.000000  "
      ]
     },
     "execution_count": 63,
     "metadata": {},
     "output_type": "execute_result"
    }
   ],
   "source": [
    "df_main.corr()"
   ]
  },
  {
   "cell_type": "code",
   "execution_count": 64,
   "id": "3fceed06",
   "metadata": {},
   "outputs": [
    {
     "data": {
      "text/plain": [
       "<AxesSubplot:>"
      ]
     },
     "execution_count": 64,
     "metadata": {},
     "output_type": "execute_result"
    },
    {
     "data": {
      "image/png": "[encoded data removed]",
      "text/plain": [
       "<Figure size 1080x720 with 2 Axes>"
      ]
     },
     "metadata": {
      "needs_background": "light"
     },
     "output_type": "display_data"
    }
   ],
   "source": [
    "plt.figure(figsize=(15,10))\n",
    "sns.heatmap(df_main.corr(),annot=True)"
   ]
  },
  {
   "cell_type": "code",
   "execution_count": 67,
   "id": "f51e7b73",
   "metadata": {},
   "outputs": [
    {
     "data": {
      "text/plain": [
       "Diameter          1.000000\n",
       "Length            0.987349\n",
       "Whole weight      0.926090\n",
       "Shell weight      0.921575\n",
       "Viscera weight    0.900572\n",
       "Shucked weight    0.895197\n",
       "Height            0.831837\n",
       "Rings             0.669316\n",
       "Sex_F             0.325902\n",
       "Sex_M             0.247399\n",
       "Sex_I            -0.564284\n",
       "Name: Diameter, dtype: float64"
      ]
     },
     "execution_count": 67,
     "metadata": {},
     "output_type": "execute_result"
    }
   ],
   "source": [
    "df_main.corr().Diameter.sort_values(ascending=False)"
   ]
  },
  {
   "cell_type": "code",
   "execution_count": 69,
   "id": "f9a93137",
   "metadata": {},
   "outputs": [
    {
     "data": {
      "text/html": [
       "<div>\n",
       "<style scoped>\n",
       "    .dataframe tbody tr th:only-of-type {\n",
       "        vertical-align: middle;\n",
       "    }\n",
       "\n",
       "    .dataframe tbody tr th {\n",
       "        vertical-align: top;\n",
       "    }\n",
       "\n",
       "    .dataframe thead th {\n",
       "        text-align: right;\n",
       "    }\n",
       "</style>\n",
       "<table border=\"1\" class=\"dataframe\">\n",
       "  <thead>\n",
       "    <tr style=\"text-align: right;\">\n",
       "      <th></th>\n",
       "      <th>Length</th>\n",
       "      <th>Diameter</th>\n",
       "      <th>Height</th>\n",
       "      <th>Whole weight</th>\n",
       "      <th>Shucked weight</th>\n",
       "      <th>Viscera weight</th>\n",
       "      <th>Shell weight</th>\n",
       "      <th>Rings</th>\n",
       "      <th>Sex_F</th>\n",
       "      <th>Sex_I</th>\n",
       "      <th>Sex_M</th>\n",
       "    </tr>\n",
       "  </thead>\n",
       "  <tbody>\n",
       "    <tr>\n",
       "      <th>1</th>\n",
       "      <td>45</td>\n",
       "      <td>36</td>\n",
       "      <td>0.090</td>\n",
       "      <td>0.2255</td>\n",
       "      <td>0.0995</td>\n",
       "      <td>0.0485</td>\n",
       "      <td>0.070</td>\n",
       "      <td>7.0</td>\n",
       "      <td>0</td>\n",
       "      <td>0</td>\n",
       "      <td>1</td>\n",
       "    </tr>\n",
       "    <tr>\n",
       "      <th>2</th>\n",
       "      <td>81</td>\n",
       "      <td>67</td>\n",
       "      <td>0.135</td>\n",
       "      <td>0.6770</td>\n",
       "      <td>0.2565</td>\n",
       "      <td>0.1415</td>\n",
       "      <td>0.210</td>\n",
       "      <td>9.0</td>\n",
       "      <td>1</td>\n",
       "      <td>0</td>\n",
       "      <td>0</td>\n",
       "    </tr>\n",
       "    <tr>\n",
       "      <th>3</th>\n",
       "      <td>63</td>\n",
       "      <td>56</td>\n",
       "      <td>0.125</td>\n",
       "      <td>0.5160</td>\n",
       "      <td>0.2155</td>\n",
       "      <td>0.1140</td>\n",
       "      <td>0.155</td>\n",
       "      <td>10.0</td>\n",
       "      <td>0</td>\n",
       "      <td>0</td>\n",
       "      <td>1</td>\n",
       "    </tr>\n",
       "    <tr>\n",
       "      <th>4</th>\n",
       "      <td>41</td>\n",
       "      <td>34</td>\n",
       "      <td>0.080</td>\n",
       "      <td>0.2050</td>\n",
       "      <td>0.0895</td>\n",
       "      <td>0.0395</td>\n",
       "      <td>0.055</td>\n",
       "      <td>7.0</td>\n",
       "      <td>0</td>\n",
       "      <td>1</td>\n",
       "      <td>0</td>\n",
       "    </tr>\n",
       "    <tr>\n",
       "      <th>5</th>\n",
       "      <td>60</td>\n",
       "      <td>43</td>\n",
       "      <td>0.095</td>\n",
       "      <td>0.3515</td>\n",
       "      <td>0.1410</td>\n",
       "      <td>0.0775</td>\n",
       "      <td>0.120</td>\n",
       "      <td>8.0</td>\n",
       "      <td>0</td>\n",
       "      <td>1</td>\n",
       "      <td>0</td>\n",
       "    </tr>\n",
       "  </tbody>\n",
       "</table>\n",
       "</div>"
      ],
      "text/plain": [
       "   Length  Diameter  Height  Whole weight  Shucked weight  Viscera weight  \\\n",
       "1      45        36   0.090        0.2255          0.0995          0.0485   \n",
       "2      81        67   0.135        0.6770          0.2565          0.1415   \n",
       "3      63        56   0.125        0.5160          0.2155          0.1140   \n",
       "4      41        34   0.080        0.2050          0.0895          0.0395   \n",
       "5      60        43   0.095        0.3515          0.1410          0.0775   \n",
       "\n",
       "   Shell weight  Rings  Sex_F  Sex_I  Sex_M  \n",
       "1         0.070    7.0      0      0      1  \n",
       "2         0.210    9.0      1      0      0  \n",
       "3         0.155   10.0      0      0      1  \n",
       "4         0.055    7.0      0      1      0  \n",
       "5         0.120    8.0      0      1      0  "
      ]
     },
     "execution_count": 69,
     "metadata": {},
     "output_type": "execute_result"
    }
   ],
   "source": [
    "df_main.head()"
   ]
  },
  {
   "cell_type": "markdown",
   "id": "6a83d4dd",
   "metadata": {},
   "source": [
    "## X AND Y SPLIT"
   ]
  },
  {
   "cell_type": "markdown",
   "id": "0e3224f2",
   "metadata": {},
   "source": [
    "## INDEPENDENT VARIABLES-X"
   ]
  },
  {
   "cell_type": "code",
   "execution_count": 70,
   "id": "7713aa86",
   "metadata": {},
   "outputs": [
    {
     "data": {
      "text/html": [
       "<div>\n",
       "<style scoped>\n",
       "    .dataframe tbody tr th:only-of-type {\n",
       "        vertical-align: middle;\n",
       "    }\n",
       "\n",
       "    .dataframe tbody tr th {\n",
       "        vertical-align: top;\n",
       "    }\n",
       "\n",
       "    .dataframe thead th {\n",
       "        text-align: right;\n",
       "    }\n",
       "</style>\n",
       "<table border=\"1\" class=\"dataframe\">\n",
       "  <thead>\n",
       "    <tr style=\"text-align: right;\">\n",
       "      <th></th>\n",
       "      <th>Length</th>\n",
       "      <th>Height</th>\n",
       "      <th>Whole weight</th>\n",
       "      <th>Shucked weight</th>\n",
       "      <th>Viscera weight</th>\n",
       "      <th>Shell weight</th>\n",
       "      <th>Rings</th>\n",
       "      <th>Sex_F</th>\n",
       "      <th>Sex_I</th>\n",
       "      <th>Sex_M</th>\n",
       "    </tr>\n",
       "  </thead>\n",
       "  <tbody>\n",
       "    <tr>\n",
       "      <th>1</th>\n",
       "      <td>45</td>\n",
       "      <td>0.090</td>\n",
       "      <td>0.2255</td>\n",
       "      <td>0.0995</td>\n",
       "      <td>0.0485</td>\n",
       "      <td>0.070</td>\n",
       "      <td>7.0</td>\n",
       "      <td>0</td>\n",
       "      <td>0</td>\n",
       "      <td>1</td>\n",
       "    </tr>\n",
       "    <tr>\n",
       "      <th>2</th>\n",
       "      <td>81</td>\n",
       "      <td>0.135</td>\n",
       "      <td>0.6770</td>\n",
       "      <td>0.2565</td>\n",
       "      <td>0.1415</td>\n",
       "      <td>0.210</td>\n",
       "      <td>9.0</td>\n",
       "      <td>1</td>\n",
       "      <td>0</td>\n",
       "      <td>0</td>\n",
       "    </tr>\n",
       "    <tr>\n",
       "      <th>3</th>\n",
       "      <td>63</td>\n",
       "      <td>0.125</td>\n",
       "      <td>0.5160</td>\n",
       "      <td>0.2155</td>\n",
       "      <td>0.1140</td>\n",
       "      <td>0.155</td>\n",
       "      <td>10.0</td>\n",
       "      <td>0</td>\n",
       "      <td>0</td>\n",
       "      <td>1</td>\n",
       "    </tr>\n",
       "    <tr>\n",
       "      <th>4</th>\n",
       "      <td>41</td>\n",
       "      <td>0.080</td>\n",
       "      <td>0.2050</td>\n",
       "      <td>0.0895</td>\n",
       "      <td>0.0395</td>\n",
       "      <td>0.055</td>\n",
       "      <td>7.0</td>\n",
       "      <td>0</td>\n",
       "      <td>1</td>\n",
       "      <td>0</td>\n",
       "    </tr>\n",
       "    <tr>\n",
       "      <th>5</th>\n",
       "      <td>60</td>\n",
       "      <td>0.095</td>\n",
       "      <td>0.3515</td>\n",
       "      <td>0.1410</td>\n",
       "      <td>0.0775</td>\n",
       "      <td>0.120</td>\n",
       "      <td>8.0</td>\n",
       "      <td>0</td>\n",
       "      <td>1</td>\n",
       "      <td>0</td>\n",
       "    </tr>\n",
       "  </tbody>\n",
       "</table>\n",
       "</div>"
      ],
      "text/plain": [
       "   Length  Height  Whole weight  Shucked weight  Viscera weight  Shell weight  \\\n",
       "1      45   0.090        0.2255          0.0995          0.0485         0.070   \n",
       "2      81   0.135        0.6770          0.2565          0.1415         0.210   \n",
       "3      63   0.125        0.5160          0.2155          0.1140         0.155   \n",
       "4      41   0.080        0.2050          0.0895          0.0395         0.055   \n",
       "5      60   0.095        0.3515          0.1410          0.0775         0.120   \n",
       "\n",
       "   Rings  Sex_F  Sex_I  Sex_M  \n",
       "1    7.0      0      0      1  \n",
       "2    9.0      1      0      0  \n",
       "3   10.0      0      0      1  \n",
       "4    7.0      0      1      0  \n",
       "5    8.0      0      1      0  "
      ]
     },
     "execution_count": 70,
     "metadata": {},
     "output_type": "execute_result"
    }
   ],
   "source": [
    "X=df_main.drop(columns=['Diameter'],axis=1)\n",
    "X.head()"
   ]
  },
  {
   "cell_type": "markdown",
   "id": "87ce6f48",
   "metadata": {},
   "source": [
    "## Y TARGET-DEPENDENT VARIABLE"
   ]
  },
  {
   "cell_type": "code",
   "execution_count": 71,
   "id": "558c37fd",
   "metadata": {},
   "outputs": [
    {
     "data": {
      "text/plain": [
       "1       36\n",
       "2       67\n",
       "3       56\n",
       "4       34\n",
       "5       43\n",
       "        ..\n",
       "4172    73\n",
       "4173    71\n",
       "4174    78\n",
       "4175    80\n",
       "4176    94\n",
       "Name: Diameter, Length: 3813, dtype: int64"
      ]
     },
     "execution_count": 71,
     "metadata": {},
     "output_type": "execute_result"
    }
   ],
   "source": [
    "y=df_main.Diameter\n",
    "y"
   ]
  },
  {
   "cell_type": "code",
   "execution_count": 72,
   "id": "64c015e2",
   "metadata": {},
   "outputs": [
    {
     "data": {
      "text/html": [
       "<div>\n",
       "<style scoped>\n",
       "    .dataframe tbody tr th:only-of-type {\n",
       "        vertical-align: middle;\n",
       "    }\n",
       "\n",
       "    .dataframe tbody tr th {\n",
       "        vertical-align: top;\n",
       "    }\n",
       "\n",
       "    .dataframe thead th {\n",
       "        text-align: right;\n",
       "    }\n",
       "</style>\n",
       "<table border=\"1\" class=\"dataframe\">\n",
       "  <thead>\n",
       "    <tr style=\"text-align: right;\">\n",
       "      <th></th>\n",
       "      <th>Length</th>\n",
       "      <th>Height</th>\n",
       "      <th>Whole weight</th>\n",
       "      <th>Shucked weight</th>\n",
       "      <th>Viscera weight</th>\n",
       "      <th>Shell weight</th>\n",
       "      <th>Rings</th>\n",
       "      <th>Sex_F</th>\n",
       "      <th>Sex_I</th>\n",
       "      <th>Sex_M</th>\n",
       "    </tr>\n",
       "  </thead>\n",
       "  <tbody>\n",
       "    <tr>\n",
       "      <th>1</th>\n",
       "      <td>45</td>\n",
       "      <td>0.090</td>\n",
       "      <td>0.2255</td>\n",
       "      <td>0.0995</td>\n",
       "      <td>0.0485</td>\n",
       "      <td>0.070</td>\n",
       "      <td>7.0</td>\n",
       "      <td>0</td>\n",
       "      <td>0</td>\n",
       "      <td>1</td>\n",
       "    </tr>\n",
       "    <tr>\n",
       "      <th>2</th>\n",
       "      <td>81</td>\n",
       "      <td>0.135</td>\n",
       "      <td>0.6770</td>\n",
       "      <td>0.2565</td>\n",
       "      <td>0.1415</td>\n",
       "      <td>0.210</td>\n",
       "      <td>9.0</td>\n",
       "      <td>1</td>\n",
       "      <td>0</td>\n",
       "      <td>0</td>\n",
       "    </tr>\n",
       "    <tr>\n",
       "      <th>3</th>\n",
       "      <td>63</td>\n",
       "      <td>0.125</td>\n",
       "      <td>0.5160</td>\n",
       "      <td>0.2155</td>\n",
       "      <td>0.1140</td>\n",
       "      <td>0.155</td>\n",
       "      <td>10.0</td>\n",
       "      <td>0</td>\n",
       "      <td>0</td>\n",
       "      <td>1</td>\n",
       "    </tr>\n",
       "    <tr>\n",
       "      <th>4</th>\n",
       "      <td>41</td>\n",
       "      <td>0.080</td>\n",
       "      <td>0.2050</td>\n",
       "      <td>0.0895</td>\n",
       "      <td>0.0395</td>\n",
       "      <td>0.055</td>\n",
       "      <td>7.0</td>\n",
       "      <td>0</td>\n",
       "      <td>1</td>\n",
       "      <td>0</td>\n",
       "    </tr>\n",
       "    <tr>\n",
       "      <th>5</th>\n",
       "      <td>60</td>\n",
       "      <td>0.095</td>\n",
       "      <td>0.3515</td>\n",
       "      <td>0.1410</td>\n",
       "      <td>0.0775</td>\n",
       "      <td>0.120</td>\n",
       "      <td>8.0</td>\n",
       "      <td>0</td>\n",
       "      <td>1</td>\n",
       "      <td>0</td>\n",
       "    </tr>\n",
       "  </tbody>\n",
       "</table>\n",
       "</div>"
      ],
      "text/plain": [
       "   Length  Height  Whole weight  Shucked weight  Viscera weight  Shell weight  \\\n",
       "1      45   0.090        0.2255          0.0995          0.0485         0.070   \n",
       "2      81   0.135        0.6770          0.2565          0.1415         0.210   \n",
       "3      63   0.125        0.5160          0.2155          0.1140         0.155   \n",
       "4      41   0.080        0.2050          0.0895          0.0395         0.055   \n",
       "5      60   0.095        0.3515          0.1410          0.0775         0.120   \n",
       "\n",
       "   Rings  Sex_F  Sex_I  Sex_M  \n",
       "1    7.0      0      0      1  \n",
       "2    9.0      1      0      0  \n",
       "3   10.0      0      0      1  \n",
       "4    7.0      0      1      0  \n",
       "5    8.0      0      1      0  "
      ]
     },
     "execution_count": 72,
     "metadata": {},
     "output_type": "execute_result"
    }
   ],
   "source": [
    "X.head()"
   ]
  },
  {
   "cell_type": "markdown",
   "id": "fa4ec079",
   "metadata": {},
   "source": [
    "## SCALING"
   ]
  },
  {
   "cell_type": "code",
   "execution_count": 73,
   "id": "47f4fe25",
   "metadata": {},
   "outputs": [],
   "source": [
    "from sklearn.preprocessing import scale"
   ]
  },
  {
   "cell_type": "code",
   "execution_count": 74,
   "id": "3a7c5951",
   "metadata": {},
   "outputs": [
    {
     "data": {
      "text/html": [
       "<div>\n",
       "<style scoped>\n",
       "    .dataframe tbody tr th:only-of-type {\n",
       "        vertical-align: middle;\n",
       "    }\n",
       "\n",
       "    .dataframe tbody tr th {\n",
       "        vertical-align: top;\n",
       "    }\n",
       "\n",
       "    .dataframe thead th {\n",
       "        text-align: right;\n",
       "    }\n",
       "</style>\n",
       "<table border=\"1\" class=\"dataframe\">\n",
       "  <thead>\n",
       "    <tr style=\"text-align: right;\">\n",
       "      <th></th>\n",
       "      <th>Length</th>\n",
       "      <th>Height</th>\n",
       "      <th>Whole weight</th>\n",
       "      <th>Shucked weight</th>\n",
       "      <th>Viscera weight</th>\n",
       "      <th>Shell weight</th>\n",
       "      <th>Rings</th>\n",
       "      <th>Sex_F</th>\n",
       "      <th>Sex_I</th>\n",
       "      <th>Sex_M</th>\n",
       "    </tr>\n",
       "  </thead>\n",
       "  <tbody>\n",
       "    <tr>\n",
       "      <th>0</th>\n",
       "      <td>-1.377083</td>\n",
       "      <td>-1.115900</td>\n",
       "      <td>-1.179047</td>\n",
       "      <td>-1.122118</td>\n",
       "      <td>-1.153741</td>\n",
       "      <td>-1.186734</td>\n",
       "      <td>-0.984148</td>\n",
       "      <td>-0.654695</td>\n",
       "      <td>-0.722603</td>\n",
       "      <td>1.342243</td>\n",
       "    </tr>\n",
       "    <tr>\n",
       "      <th>1</th>\n",
       "      <td>0.102356</td>\n",
       "      <td>-0.038431</td>\n",
       "      <td>-0.248112</td>\n",
       "      <td>-0.425304</td>\n",
       "      <td>-0.304220</td>\n",
       "      <td>-0.121093</td>\n",
       "      <td>-0.101194</td>\n",
       "      <td>1.527430</td>\n",
       "      <td>-0.722603</td>\n",
       "      <td>-0.745022</td>\n",
       "    </tr>\n",
       "    <tr>\n",
       "      <th>2</th>\n",
       "      <td>-0.637363</td>\n",
       "      <td>-0.277868</td>\n",
       "      <td>-0.580073</td>\n",
       "      <td>-0.607274</td>\n",
       "      <td>-0.555422</td>\n",
       "      <td>-0.539738</td>\n",
       "      <td>0.340284</td>\n",
       "      <td>-0.654695</td>\n",
       "      <td>-0.722603</td>\n",
       "      <td>1.342243</td>\n",
       "    </tr>\n",
       "    <tr>\n",
       "      <th>3</th>\n",
       "      <td>-1.541465</td>\n",
       "      <td>-1.355337</td>\n",
       "      <td>-1.221316</td>\n",
       "      <td>-1.166501</td>\n",
       "      <td>-1.235953</td>\n",
       "      <td>-1.300910</td>\n",
       "      <td>-0.984148</td>\n",
       "      <td>-0.654695</td>\n",
       "      <td>1.383885</td>\n",
       "      <td>-0.745022</td>\n",
       "    </tr>\n",
       "    <tr>\n",
       "      <th>4</th>\n",
       "      <td>-0.760650</td>\n",
       "      <td>-0.996181</td>\n",
       "      <td>-0.919251</td>\n",
       "      <td>-0.937928</td>\n",
       "      <td>-0.888837</td>\n",
       "      <td>-0.806148</td>\n",
       "      <td>-0.542671</td>\n",
       "      <td>-0.654695</td>\n",
       "      <td>1.383885</td>\n",
       "      <td>-0.745022</td>\n",
       "    </tr>\n",
       "  </tbody>\n",
       "</table>\n",
       "</div>"
      ],
      "text/plain": [
       "     Length    Height  Whole weight  Shucked weight  Viscera weight  \\\n",
       "0 -1.377083 -1.115900     -1.179047       -1.122118       -1.153741   \n",
       "1  0.102356 -0.038431     -0.248112       -0.425304       -0.304220   \n",
       "2 -0.637363 -0.277868     -0.580073       -0.607274       -0.555422   \n",
       "3 -1.541465 -1.355337     -1.221316       -1.166501       -1.235953   \n",
       "4 -0.760650 -0.996181     -0.919251       -0.937928       -0.888837   \n",
       "\n",
       "   Shell weight     Rings     Sex_F     Sex_I     Sex_M  \n",
       "0     -1.186734 -0.984148 -0.654695 -0.722603  1.342243  \n",
       "1     -0.121093 -0.101194  1.527430 -0.722603 -0.745022  \n",
       "2     -0.539738  0.340284 -0.654695 -0.722603  1.342243  \n",
       "3     -1.300910 -0.984148 -0.654695  1.383885 -0.745022  \n",
       "4     -0.806148 -0.542671 -0.654695  1.383885 -0.745022  "
      ]
     },
     "execution_count": 74,
     "metadata": {},
     "output_type": "execute_result"
    }
   ],
   "source": [
    "X_scaled=pd.DataFrame(scale(X),columns=X.columns)\n",
    "X_scaled.head()"
   ]
  },
  {
   "cell_type": "markdown",
   "id": "9325dade",
   "metadata": {},
   "source": [
    "## TRAIN TEST SPLIT"
   ]
  },
  {
   "cell_type": "code",
   "execution_count": 75,
   "id": "e67c171f",
   "metadata": {},
   "outputs": [],
   "source": [
    "from sklearn.model_selection import train_test_split\n",
    "X_train,X_test,y_train,y_test =train_test_split(X_scaled,y, test_size=0.3,random_state=0)"
   ]
  },
  {
   "cell_type": "code",
   "execution_count": 76,
   "id": "b3f20014",
   "metadata": {},
   "outputs": [
    {
     "data": {
      "text/html": [
       "<div>\n",
       "<style scoped>\n",
       "    .dataframe tbody tr th:only-of-type {\n",
       "        vertical-align: middle;\n",
       "    }\n",
       "\n",
       "    .dataframe tbody tr th {\n",
       "        vertical-align: top;\n",
       "    }\n",
       "\n",
       "    .dataframe thead th {\n",
       "        text-align: right;\n",
       "    }\n",
       "</style>\n",
       "<table border=\"1\" class=\"dataframe\">\n",
       "  <thead>\n",
       "    <tr style=\"text-align: right;\">\n",
       "      <th></th>\n",
       "      <th>Length</th>\n",
       "      <th>Height</th>\n",
       "      <th>Whole weight</th>\n",
       "      <th>Shucked weight</th>\n",
       "      <th>Viscera weight</th>\n",
       "      <th>Shell weight</th>\n",
       "      <th>Rings</th>\n",
       "      <th>Sex_F</th>\n",
       "      <th>Sex_I</th>\n",
       "      <th>Sex_M</th>\n",
       "    </tr>\n",
       "  </thead>\n",
       "  <tbody>\n",
       "    <tr>\n",
       "      <th>1771</th>\n",
       "      <td>1.047553</td>\n",
       "      <td>0.919320</td>\n",
       "      <td>1.077673</td>\n",
       "      <td>1.332267</td>\n",
       "      <td>0.572706</td>\n",
       "      <td>0.857014</td>\n",
       "      <td>0.781761</td>\n",
       "      <td>-0.654695</td>\n",
       "      <td>-0.722603</td>\n",
       "      <td>1.342243</td>\n",
       "    </tr>\n",
       "    <tr>\n",
       "      <th>2491</th>\n",
       "      <td>0.307834</td>\n",
       "      <td>0.919320</td>\n",
       "      <td>0.719938</td>\n",
       "      <td>0.881778</td>\n",
       "      <td>0.632081</td>\n",
       "      <td>0.400310</td>\n",
       "      <td>-0.542671</td>\n",
       "      <td>1.527430</td>\n",
       "      <td>-0.722603</td>\n",
       "      <td>-0.745022</td>\n",
       "    </tr>\n",
       "    <tr>\n",
       "      <th>2137</th>\n",
       "      <td>-0.390790</td>\n",
       "      <td>-0.038431</td>\n",
       "      <td>-0.474918</td>\n",
       "      <td>-0.536261</td>\n",
       "      <td>-0.258546</td>\n",
       "      <td>-0.558767</td>\n",
       "      <td>0.781761</td>\n",
       "      <td>-0.654695</td>\n",
       "      <td>1.383885</td>\n",
       "      <td>-0.745022</td>\n",
       "    </tr>\n",
       "    <tr>\n",
       "      <th>529</th>\n",
       "      <td>-0.144217</td>\n",
       "      <td>-0.517306</td>\n",
       "      <td>-0.418216</td>\n",
       "      <td>-0.742643</td>\n",
       "      <td>-0.244844</td>\n",
       "      <td>-0.273327</td>\n",
       "      <td>0.781761</td>\n",
       "      <td>1.527430</td>\n",
       "      <td>-0.722603</td>\n",
       "      <td>-0.745022</td>\n",
       "    </tr>\n",
       "    <tr>\n",
       "      <th>1855</th>\n",
       "      <td>-1.582561</td>\n",
       "      <td>-1.594775</td>\n",
       "      <td>-1.330595</td>\n",
       "      <td>-1.312965</td>\n",
       "      <td>-1.318165</td>\n",
       "      <td>-1.308522</td>\n",
       "      <td>-0.542671</td>\n",
       "      <td>-0.654695</td>\n",
       "      <td>1.383885</td>\n",
       "      <td>-0.745022</td>\n",
       "    </tr>\n",
       "    <tr>\n",
       "      <th>...</th>\n",
       "      <td>...</td>\n",
       "      <td>...</td>\n",
       "      <td>...</td>\n",
       "      <td>...</td>\n",
       "      <td>...</td>\n",
       "      <td>...</td>\n",
       "      <td>...</td>\n",
       "      <td>...</td>\n",
       "      <td>...</td>\n",
       "      <td>...</td>\n",
       "    </tr>\n",
       "    <tr>\n",
       "      <th>835</th>\n",
       "      <td>0.924267</td>\n",
       "      <td>0.679882</td>\n",
       "      <td>1.051899</td>\n",
       "      <td>1.094817</td>\n",
       "      <td>0.997466</td>\n",
       "      <td>0.678138</td>\n",
       "      <td>0.781761</td>\n",
       "      <td>1.527430</td>\n",
       "      <td>-0.722603</td>\n",
       "      <td>-0.745022</td>\n",
       "    </tr>\n",
       "    <tr>\n",
       "      <th>3264</th>\n",
       "      <td>-0.801746</td>\n",
       "      <td>-0.637025</td>\n",
       "      <td>-0.973891</td>\n",
       "      <td>-1.011160</td>\n",
       "      <td>-0.907106</td>\n",
       "      <td>-0.939353</td>\n",
       "      <td>-0.984148</td>\n",
       "      <td>-0.654695</td>\n",
       "      <td>1.383885</td>\n",
       "      <td>-0.745022</td>\n",
       "    </tr>\n",
       "    <tr>\n",
       "      <th>1653</th>\n",
       "      <td>-0.842841</td>\n",
       "      <td>-0.876462</td>\n",
       "      <td>-1.065644</td>\n",
       "      <td>-1.057763</td>\n",
       "      <td>-1.080664</td>\n",
       "      <td>-0.977412</td>\n",
       "      <td>-1.425625</td>\n",
       "      <td>-0.654695</td>\n",
       "      <td>1.383885</td>\n",
       "      <td>-0.745022</td>\n",
       "    </tr>\n",
       "    <tr>\n",
       "      <th>2607</th>\n",
       "      <td>-0.144217</td>\n",
       "      <td>-0.158149</td>\n",
       "      <td>-0.597599</td>\n",
       "      <td>-0.625027</td>\n",
       "      <td>-0.646769</td>\n",
       "      <td>-0.383697</td>\n",
       "      <td>-0.101194</td>\n",
       "      <td>-0.654695</td>\n",
       "      <td>1.383885</td>\n",
       "      <td>-0.745022</td>\n",
       "    </tr>\n",
       "    <tr>\n",
       "      <th>2732</th>\n",
       "      <td>1.910560</td>\n",
       "      <td>1.637632</td>\n",
       "      <td>3.023050</td>\n",
       "      <td>2.080122</td>\n",
       "      <td>2.267181</td>\n",
       "      <td>3.806557</td>\n",
       "      <td>1.223238</td>\n",
       "      <td>1.527430</td>\n",
       "      <td>-0.722603</td>\n",
       "      <td>-0.745022</td>\n",
       "    </tr>\n",
       "  </tbody>\n",
       "</table>\n",
       "<p>2669 rows × 10 columns</p>\n",
       "</div>"
      ],
      "text/plain": [
       "        Length    Height  Whole weight  Shucked weight  Viscera weight  \\\n",
       "1771  1.047553  0.919320      1.077673        1.332267        0.572706   \n",
       "2491  0.307834  0.919320      0.719938        0.881778        0.632081   \n",
       "2137 -0.390790 -0.038431     -0.474918       -0.536261       -0.258546   \n",
       "529  -0.144217 -0.517306     -0.418216       -0.742643       -0.244844   \n",
       "1855 -1.582561 -1.594775     -1.330595       -1.312965       -1.318165   \n",
       "...        ...       ...           ...             ...             ...   \n",
       "835   0.924267  0.679882      1.051899        1.094817        0.997466   \n",
       "3264 -0.801746 -0.637025     -0.973891       -1.011160       -0.907106   \n",
       "1653 -0.842841 -0.876462     -1.065644       -1.057763       -1.080664   \n",
       "2607 -0.144217 -0.158149     -0.597599       -0.625027       -0.646769   \n",
       "2732  1.910560  1.637632      3.023050        2.080122        2.267181   \n",
       "\n",
       "      Shell weight     Rings     Sex_F     Sex_I     Sex_M  \n",
       "1771      0.857014  0.781761 -0.654695 -0.722603  1.342243  \n",
       "2491      0.400310 -0.542671  1.527430 -0.722603 -0.745022  \n",
       "2137     -0.558767  0.781761 -0.654695  1.383885 -0.745022  \n",
       "529      -0.273327  0.781761  1.527430 -0.722603 -0.745022  \n",
       "1855     -1.308522 -0.542671 -0.654695  1.383885 -0.745022  \n",
       "...            ...       ...       ...       ...       ...  \n",
       "835       0.678138  0.781761  1.527430 -0.722603 -0.745022  \n",
       "3264     -0.939353 -0.984148 -0.654695  1.383885 -0.745022  \n",
       "1653     -0.977412 -1.425625 -0.654695  1.383885 -0.745022  \n",
       "2607     -0.383697 -0.101194 -0.654695  1.383885 -0.745022  \n",
       "2732      3.806557  1.223238  1.527430 -0.722603 -0.745022  \n",
       "\n",
       "[2669 rows x 10 columns]"
      ]
     },
     "execution_count": 76,
     "metadata": {},
     "output_type": "execute_result"
    }
   ],
   "source": [
    "X_train"
   ]
  },
  {
   "cell_type": "code",
   "execution_count": 77,
   "id": "9d112ce8",
   "metadata": {},
   "outputs": [
    {
     "data": {
      "text/plain": [
       "(2669, 10)"
      ]
     },
     "execution_count": 77,
     "metadata": {},
     "output_type": "execute_result"
    }
   ],
   "source": [
    "X_train.shape"
   ]
  },
  {
   "cell_type": "code",
   "execution_count": 78,
   "id": "856927f9",
   "metadata": {},
   "outputs": [
    {
     "data": {
      "text/plain": [
       "(2669,)"
      ]
     },
     "execution_count": 78,
     "metadata": {},
     "output_type": "execute_result"
    }
   ],
   "source": [
    "y_train.shape"
   ]
  },
  {
   "cell_type": "code",
   "execution_count": 79,
   "id": "69ab1587",
   "metadata": {},
   "outputs": [
    {
     "data": {
      "text/html": [
       "<div>\n",
       "<style scoped>\n",
       "    .dataframe tbody tr th:only-of-type {\n",
       "        vertical-align: middle;\n",
       "    }\n",
       "\n",
       "    .dataframe tbody tr th {\n",
       "        vertical-align: top;\n",
       "    }\n",
       "\n",
       "    .dataframe thead th {\n",
       "        text-align: right;\n",
       "    }\n",
       "</style>\n",
       "<table border=\"1\" class=\"dataframe\">\n",
       "  <thead>\n",
       "    <tr style=\"text-align: right;\">\n",
       "      <th></th>\n",
       "      <th>Length</th>\n",
       "      <th>Height</th>\n",
       "      <th>Whole weight</th>\n",
       "      <th>Shucked weight</th>\n",
       "      <th>Viscera weight</th>\n",
       "      <th>Shell weight</th>\n",
       "      <th>Rings</th>\n",
       "      <th>Sex_F</th>\n",
       "      <th>Sex_I</th>\n",
       "      <th>Sex_M</th>\n",
       "    </tr>\n",
       "  </thead>\n",
       "  <tbody>\n",
       "    <tr>\n",
       "      <th>1830</th>\n",
       "      <td>-0.103121</td>\n",
       "      <td>-0.397587</td>\n",
       "      <td>-0.297596</td>\n",
       "      <td>-0.092430</td>\n",
       "      <td>-0.331624</td>\n",
       "      <td>-0.448397</td>\n",
       "      <td>-0.101194</td>\n",
       "      <td>-0.654695</td>\n",
       "      <td>-0.722603</td>\n",
       "      <td>1.342243</td>\n",
       "    </tr>\n",
       "    <tr>\n",
       "      <th>725</th>\n",
       "      <td>-1.541465</td>\n",
       "      <td>-1.235618</td>\n",
       "      <td>-1.239872</td>\n",
       "      <td>-1.219761</td>\n",
       "      <td>-1.318165</td>\n",
       "      <td>-1.380833</td>\n",
       "      <td>-1.425625</td>\n",
       "      <td>-0.654695</td>\n",
       "      <td>1.383885</td>\n",
       "      <td>-0.745022</td>\n",
       "    </tr>\n",
       "    <tr>\n",
       "      <th>3687</th>\n",
       "      <td>0.883171</td>\n",
       "      <td>0.919320</td>\n",
       "      <td>0.534369</td>\n",
       "      <td>0.484550</td>\n",
       "      <td>0.759966</td>\n",
       "      <td>0.602021</td>\n",
       "      <td>0.340284</td>\n",
       "      <td>-0.654695</td>\n",
       "      <td>-0.722603</td>\n",
       "      <td>1.342243</td>\n",
       "    </tr>\n",
       "    <tr>\n",
       "      <th>599</th>\n",
       "      <td>-0.267504</td>\n",
       "      <td>0.081288</td>\n",
       "      <td>-0.569764</td>\n",
       "      <td>-0.676068</td>\n",
       "      <td>-0.473210</td>\n",
       "      <td>-0.425562</td>\n",
       "      <td>-0.542671</td>\n",
       "      <td>-0.654695</td>\n",
       "      <td>1.383885</td>\n",
       "      <td>-0.745022</td>\n",
       "    </tr>\n",
       "    <tr>\n",
       "      <th>1288</th>\n",
       "      <td>0.102356</td>\n",
       "      <td>-0.277868</td>\n",
       "      <td>-0.082131</td>\n",
       "      <td>0.202717</td>\n",
       "      <td>-0.217441</td>\n",
       "      <td>-0.387503</td>\n",
       "      <td>-0.542671</td>\n",
       "      <td>-0.654695</td>\n",
       "      <td>-0.722603</td>\n",
       "      <td>1.342243</td>\n",
       "    </tr>\n",
       "    <tr>\n",
       "      <th>...</th>\n",
       "      <td>...</td>\n",
       "      <td>...</td>\n",
       "      <td>...</td>\n",
       "      <td>...</td>\n",
       "      <td>...</td>\n",
       "      <td>...</td>\n",
       "      <td>...</td>\n",
       "      <td>...</td>\n",
       "      <td>...</td>\n",
       "      <td>...</td>\n",
       "    </tr>\n",
       "    <tr>\n",
       "      <th>1962</th>\n",
       "      <td>0.266738</td>\n",
       "      <td>-0.038431</td>\n",
       "      <td>0.168387</td>\n",
       "      <td>0.069568</td>\n",
       "      <td>0.316936</td>\n",
       "      <td>0.297552</td>\n",
       "      <td>0.340284</td>\n",
       "      <td>-0.654695</td>\n",
       "      <td>-0.722603</td>\n",
       "      <td>1.342243</td>\n",
       "    </tr>\n",
       "    <tr>\n",
       "      <th>2359</th>\n",
       "      <td>-0.760650</td>\n",
       "      <td>-0.876462</td>\n",
       "      <td>-0.919251</td>\n",
       "      <td>-0.842505</td>\n",
       "      <td>-0.847731</td>\n",
       "      <td>-1.004053</td>\n",
       "      <td>-0.984148</td>\n",
       "      <td>-0.654695</td>\n",
       "      <td>1.383885</td>\n",
       "      <td>-0.745022</td>\n",
       "    </tr>\n",
       "    <tr>\n",
       "      <th>1110</th>\n",
       "      <td>-0.020930</td>\n",
       "      <td>-0.038431</td>\n",
       "      <td>-0.207905</td>\n",
       "      <td>-0.143471</td>\n",
       "      <td>-0.450374</td>\n",
       "      <td>-0.387503</td>\n",
       "      <td>-0.101194</td>\n",
       "      <td>-0.654695</td>\n",
       "      <td>1.383885</td>\n",
       "      <td>-0.745022</td>\n",
       "    </tr>\n",
       "    <tr>\n",
       "      <th>3779</th>\n",
       "      <td>1.129745</td>\n",
       "      <td>1.996789</td>\n",
       "      <td>1.158086</td>\n",
       "      <td>1.285664</td>\n",
       "      <td>1.376554</td>\n",
       "      <td>1.363193</td>\n",
       "      <td>1.664715</td>\n",
       "      <td>1.527430</td>\n",
       "      <td>-0.722603</td>\n",
       "      <td>-0.745022</td>\n",
       "    </tr>\n",
       "    <tr>\n",
       "      <th>2944</th>\n",
       "      <td>1.129745</td>\n",
       "      <td>0.560163</td>\n",
       "      <td>0.607566</td>\n",
       "      <td>0.193840</td>\n",
       "      <td>0.983764</td>\n",
       "      <td>1.096783</td>\n",
       "      <td>2.106192</td>\n",
       "      <td>1.527430</td>\n",
       "      <td>-0.722603</td>\n",
       "      <td>-0.745022</td>\n",
       "    </tr>\n",
       "  </tbody>\n",
       "</table>\n",
       "<p>1144 rows × 10 columns</p>\n",
       "</div>"
      ],
      "text/plain": [
       "        Length    Height  Whole weight  Shucked weight  Viscera weight  \\\n",
       "1830 -0.103121 -0.397587     -0.297596       -0.092430       -0.331624   \n",
       "725  -1.541465 -1.235618     -1.239872       -1.219761       -1.318165   \n",
       "3687  0.883171  0.919320      0.534369        0.484550        0.759966   \n",
       "599  -0.267504  0.081288     -0.569764       -0.676068       -0.473210   \n",
       "1288  0.102356 -0.277868     -0.082131        0.202717       -0.217441   \n",
       "...        ...       ...           ...             ...             ...   \n",
       "1962  0.266738 -0.038431      0.168387        0.069568        0.316936   \n",
       "2359 -0.760650 -0.876462     -0.919251       -0.842505       -0.847731   \n",
       "1110 -0.020930 -0.038431     -0.207905       -0.143471       -0.450374   \n",
       "3779  1.129745  1.996789      1.158086        1.285664        1.376554   \n",
       "2944  1.129745  0.560163      0.607566        0.193840        0.983764   \n",
       "\n",
       "      Shell weight     Rings     Sex_F     Sex_I     Sex_M  \n",
       "1830     -0.448397 -0.101194 -0.654695 -0.722603  1.342243  \n",
       "725      -1.380833 -1.425625 -0.654695  1.383885 -0.745022  \n",
       "3687      0.602021  0.340284 -0.654695 -0.722603  1.342243  \n",
       "599      -0.425562 -0.542671 -0.654695  1.383885 -0.745022  \n",
       "1288     -0.387503 -0.542671 -0.654695 -0.722603  1.342243  \n",
       "...            ...       ...       ...       ...       ...  \n",
       "1962      0.297552  0.340284 -0.654695 -0.722603  1.342243  \n",
       "2359     -1.004053 -0.984148 -0.654695  1.383885 -0.745022  \n",
       "1110     -0.387503 -0.101194 -0.654695  1.383885 -0.745022  \n",
       "3779      1.363193  1.664715  1.527430 -0.722603 -0.745022  \n",
       "2944      1.096783  2.106192  1.527430 -0.722603 -0.745022  \n",
       "\n",
       "[1144 rows x 10 columns]"
      ]
     },
     "execution_count": 79,
     "metadata": {},
     "output_type": "execute_result"
    }
   ],
   "source": [
    "X_test"
   ]
  },
  {
   "cell_type": "code",
   "execution_count": 80,
   "id": "15dac4a9",
   "metadata": {},
   "outputs": [
    {
     "data": {
      "text/plain": [
       "(1144, 10)"
      ]
     },
     "execution_count": 80,
     "metadata": {},
     "output_type": "execute_result"
    }
   ],
   "source": [
    "X_test.shape"
   ]
  },
  {
   "cell_type": "markdown",
   "id": "e4bcd048",
   "metadata": {},
   "source": [
    "## BUILDING THE MODEL"
   ]
  },
  {
   "cell_type": "code",
   "execution_count": 82,
   "id": "1e165eba",
   "metadata": {},
   "outputs": [],
   "source": [
    "from sklearn.linear_model import Ridge\n",
    "from sklearn.linear_model import Lasso"
   ]
  },
  {
   "cell_type": "code",
   "execution_count": 83,
   "id": "da16704b",
   "metadata": {},
   "outputs": [],
   "source": [
    "ridge=Ridge()\n",
    "lasso=Lasso()"
   ]
  },
  {
   "cell_type": "code",
   "execution_count": 85,
   "id": "7843c3a3",
   "metadata": {},
   "outputs": [
    {
     "data": {
      "text/plain": [
       "Ridge()"
      ]
     },
     "execution_count": 85,
     "metadata": {},
     "output_type": "execute_result"
    }
   ],
   "source": [
    "ridge.fit(X_train,y_train)"
   ]
  },
  {
   "cell_type": "code",
   "execution_count": 86,
   "id": "2218ccef",
   "metadata": {},
   "outputs": [
    {
     "data": {
      "text/plain": [
       "Lasso()"
      ]
     },
     "execution_count": 86,
     "metadata": {},
     "output_type": "execute_result"
    }
   ],
   "source": [
    "lasso.fit(X_train,y_train)"
   ]
  },
  {
   "cell_type": "markdown",
   "id": "9428189a",
   "metadata": {},
   "source": [
    "## TRAINING AND TESTING THE MODEL"
   ]
  },
  {
   "cell_type": "code",
   "execution_count": 88,
   "id": "e30506c0",
   "metadata": {},
   "outputs": [
    {
     "data": {
      "text/plain": [
       "array([ 84.37333484,  70.39473065,  55.45052027, ...,  45.71026215,\n",
       "        59.81270129, 105.13128538])"
      ]
     },
     "execution_count": 88,
     "metadata": {},
     "output_type": "execute_result"
    }
   ],
   "source": [
    "y_train_pred=ridge.predict(X_train)\n",
    "y_train_pred"
   ]
  },
  {
   "cell_type": "code",
   "execution_count": 90,
   "id": "a8c5dedb",
   "metadata": {},
   "outputs": [
    {
     "data": {
      "text/plain": [
       "array([60.67608427, 32.79871822, 80.42111967, ..., 62.08572111,\n",
       "       87.69543547, 85.82832192])"
      ]
     },
     "execution_count": 90,
     "metadata": {},
     "output_type": "execute_result"
    }
   ],
   "source": [
    "y_test_pred=ridge.predict(X_test)\n",
    "y_test_pred"
   ]
  },
  {
   "cell_type": "code",
   "execution_count": 91,
   "id": "bbe62d34",
   "metadata": {},
   "outputs": [
    {
     "data": {
      "text/plain": [
       "array([ 82.9294691 ,  69.58282858,  55.80329425, ...,  47.20329363,\n",
       "        60.26628312, 103.04307763])"
      ]
     },
     "execution_count": 91,
     "metadata": {},
     "output_type": "execute_result"
    }
   ],
   "source": [
    "y_train_pred1=lasso.predict(X_train)\n",
    "y_train_pred1"
   ]
  },
  {
   "cell_type": "code",
   "execution_count": 92,
   "id": "a0322285",
   "metadata": {},
   "outputs": [
    {
     "data": {
      "text/plain": [
       "array([60.7900251 , 34.56690244, 79.68541248, ..., 62.37317532,\n",
       "       85.483047  , 84.67312686])"
      ]
     },
     "execution_count": 92,
     "metadata": {},
     "output_type": "execute_result"
    }
   ],
   "source": [
    "y_test_pred1=lasso.predict(X_test)\n",
    "y_test_pred1"
   ]
  },
  {
   "cell_type": "markdown",
   "id": "ec3ec0f1",
   "metadata": {},
   "source": [
    "## EVALUATION METRICS FOR REGRESSION"
   ]
  },
  {
   "cell_type": "code",
   "execution_count": 93,
   "id": "b34fa693",
   "metadata": {},
   "outputs": [],
   "source": [
    "from sklearn import metrics"
   ]
  },
  {
   "cell_type": "code",
   "execution_count": 94,
   "id": "19bb1c6f",
   "metadata": {},
   "outputs": [
    {
     "data": {
      "text/plain": [
       "8.502030955552902"
      ]
     },
     "execution_count": 94,
     "metadata": {},
     "output_type": "execute_result"
    }
   ],
   "source": [
    "# MSE\n",
    "# ridge mse\n",
    "metrics.mean_squared_error(y_test,y_test_pred)"
   ]
  },
  {
   "cell_type": "code",
   "execution_count": 95,
   "id": "3a353f7e",
   "metadata": {},
   "outputs": [
    {
     "data": {
      "text/plain": [
       "9.358118746486204"
      ]
     },
     "execution_count": 95,
     "metadata": {},
     "output_type": "execute_result"
    }
   ],
   "source": [
    "## lasso mse\n",
    "metrics.mean_squared_error(y_test,y_test_pred1)"
   ]
  },
  {
   "cell_type": "code",
   "execution_count": 96,
   "id": "67164b6a",
   "metadata": {},
   "outputs": [
    {
     "data": {
      "text/plain": [
       "2.915824232623239"
      ]
     },
     "execution_count": 96,
     "metadata": {},
     "output_type": "execute_result"
    }
   ],
   "source": [
    "## RMSE\n",
    "# ridge rmse\n",
    "np.sqrt(metrics.mean_squared_error(y_test,y_test_pred))"
   ]
  },
  {
   "cell_type": "code",
   "execution_count": 97,
   "id": "6f236f2e",
   "metadata": {},
   "outputs": [
    {
     "data": {
      "text/plain": [
       "3.0591042392318384"
      ]
     },
     "execution_count": 97,
     "metadata": {},
     "output_type": "execute_result"
    }
   ],
   "source": [
    "# lasso rmse\n",
    "np.sqrt(metrics.mean_squared_error(y_test,y_test_pred1))"
   ]
  },
  {
   "cell_type": "code",
   "execution_count": 111,
   "id": "cfe5ce6d",
   "metadata": {},
   "outputs": [
    {
     "data": {
      "text/plain": [
       "0.9735352855878747"
      ]
     },
     "execution_count": 111,
     "metadata": {},
     "output_type": "execute_result"
    }
   ],
   "source": [
    "## ridge training acc\n",
    "metrics.r2_score(y_train,y_train_pred1)"
   ]
  },
  {
   "cell_type": "code",
   "execution_count": 108,
   "id": "be090fc7",
   "metadata": {},
   "outputs": [
    {
     "data": {
      "text/plain": [
       "0.9783678002864609"
      ]
     },
     "execution_count": 108,
     "metadata": {},
     "output_type": "execute_result"
    }
   ],
   "source": [
    "# testing acc of ridge\n",
    "metrics.r2_score(y_test,y_test_pred) "
   ]
  },
  {
   "cell_type": "code",
   "execution_count": 107,
   "id": "13c6e2cb",
   "metadata": {},
   "outputs": [
    {
     "data": {
      "text/plain": [
       "0.9735352855878747"
      ]
     },
     "execution_count": 107,
     "metadata": {},
     "output_type": "execute_result"
    }
   ],
   "source": [
    "## lasso training acc\n",
    "metrics.r2_score(y_train,y_train_pred1)"
   ]
  },
  {
   "cell_type": "code",
   "execution_count": 106,
   "id": "7c524b17",
   "metadata": {},
   "outputs": [
    {
     "data": {
      "text/plain": [
       "0.976189607550795"
      ]
     },
     "execution_count": 106,
     "metadata": {},
     "output_type": "execute_result"
    }
   ],
   "source": [
    "# testing acc of lasso\n",
    "metrics.r2_score(y_test,y_test_pred1)"
   ]
  },
  {
   "cell_type": "code",
   "execution_count": null,
   "id": "b0e4fd84",
   "metadata": {},
   "outputs": [],
   "source": []
  }
 ],
 "metadata": {
  "kernelspec": {
   "display_name": "Python 3 (ipykernel)",
   "language": "python",
   "name": "python3"
  },
  "language_info": {
   "codemirror_mode": {
    "name": "ipython",
    "version": 3
   },
   "file_extension": ".py",
   "mimetype": "text/x-python",
   "name": "python",
   "nbconvert_exporter": "python",
   "pygments_lexer": "ipython3",
   "version": "3.9.12"
  }
 },
 "nbformat": 4,
 "nbformat_minor": 5
}
